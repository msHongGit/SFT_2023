{
 "cells": [
  {
   "cell_type": "code",
   "execution_count": 8,
   "id": "eb01afc9",
   "metadata": {},
   "outputs": [],
   "source": [
    "# import sys\n",
    "# !{sys.executable} -m pip install seaborn"
   ]
  },
  {
   "cell_type": "code",
   "execution_count": 1,
   "id": "3a378609",
   "metadata": {
    "tags": []
   },
   "outputs": [],
   "source": [
    "import pandas as pd\n",
    "import numpy as np\n",
    "\n",
    "pd.set_option(\"display.max_columns\", 500)\n",
    "pd.set_option('display.max_rows', 50)\n",
    "\n",
    "from tqdm import tqdm\n",
    "\n",
    "import matplotlib.pyplot as plt\n",
    "import seaborn as sns\n",
    "sns.set(rc={'figure.figsize':(15, 5)})\n",
    "%matplotlib inline\n",
    "\n",
    "import warnings\n",
    "warnings.filterwarnings(action='ignore')"
   ]
  },
  {
   "cell_type": "markdown",
   "id": "39476a3a",
   "metadata": {},
   "source": [
    "## 기본물성 데이터 통합"
   ]
  },
  {
   "cell_type": "code",
   "execution_count": 2,
   "id": "4b8e45f5",
   "metadata": {
    "tags": []
   },
   "outputs": [],
   "source": [
    "in_file_path = './tmp_dataset/'\n",
    "out_file_path = './final_dataset/'\n",
    "\n",
    "mes_regr_yCols = ['HS_VAL','SG_VAL','TS_VAL','EB_VAL']"
   ]
  },
  {
   "cell_type": "markdown",
   "id": "dd3f21f5",
   "metadata": {},
   "source": [
    "### 최종 데이터셋의 형태(변수명) 정의"
   ]
  },
  {
   "cell_type": "code",
   "execution_count": 3,
   "id": "f792d340",
   "metadata": {},
   "outputs": [],
   "source": [
    "trg_yCols = ['HS_VAL','SG_VAL','TS_VAL','EB_VAL']\n",
    "trg_ispt_cols = ['HS_TEMP','HS_TIME','SG_TEMP','SG_TIME','TS_TEMP','TS_TIME','EB_TEMP','EB_TIME']\n",
    "\n",
    "fin_cols = ['ID', 'TYPE', \n",
    "            'RPM1', 'RPM2', 'RPM3', 'RPM4', 'RPM5', 'RPM6', 'RPM7', 'RPM8', 'RPM9', 'RPM10', 'RPM11', 'RPM12', 'RPM13', 'RPM14', 'RPM15', 'RPM16', 'RPM17', 'RPM18', 'RPM19', 'RPM20', 'RPM21', 'RPM22', 'RPM23', \n",
    "            'TEMP1', 'TEMP2', 'TEMP3', 'TEMP4', 'TEMP5', 'TEMP6', 'TEMP7', 'TEMP8', 'TEMP9', 'TEMP10', 'TEMP11', 'TEMP12', 'TEMP13', 'TEMP14', 'TEMP15', 'TEMP16', 'TEMP17', 'TEMP18', 'TEMP19', 'TEMP20', 'TEMP21', 'TEMP22', 'TEMP23', \n",
    "            'TIME1', 'TIME2', 'TIME3', 'TIME4', 'TIME5', 'TIME6', 'TIME7', 'TIME8', 'TIME9', 'TIME10', 'TIME11', 'TIME12', 'TIME13', 'TIME14', 'TIME15', 'TIME16', 'TIME17', 'TIME18', 'TIME19', 'TIME20', 'TIME21', 'TIME22', 'TIME23', \n",
    "            'JUK1', 'JUK2', 'JUK3', 'JUK4', 'JUK5', 'JUK6', 'JUK7', 'JUK8', 'JUK9', 'JUK10', 'JUK11', 'JUK12', 'JUK13', 'JUK14', 'JUK15', 'JUK16', 'JUK17', 'JUK18', 'JUK19', 'JUK20', 'JUK21', 'JUK22', 'JUK23', \n",
    "            'JRCODE1', 'JRCODE2', 'JRCODE3', 'JRCODE4', 'JRCODE5', 'JRCODE6', 'JRCODE7', 'JRCODE8', 'JRCODE9', 'JRCODE10', 'JRCODE11', 'JRCODE12', 'JRCODE13', 'JRCODE14', 'JRCODE15', 'JRCODE16', 'JRCODE17', 'JRCODE18', 'JRCODE19', 'JRCODE20', 'JRCODE21', 'JRCODE22', 'JRCODE23', 'JRCODE24', 'JRCODE25', \n",
    "            'PHR1', 'PHR2', 'PHR3', 'PHR4', 'PHR5', 'PHR6', 'PHR7', 'PHR8', 'PHR9', 'PHR10', 'PHR11', 'PHR12', 'PHR13', 'PHR14', 'PHR15', 'PHR16', 'PHR17', 'PHR18', 'PHR19', 'PHR20', 'PHR21', 'PHR22', 'PHR23', 'PHR24', 'PHR25', \n",
    "            'PUTGB1', 'PUTGB2', 'PUTGB3', 'PUTGB4', 'PUTGB5', 'PUTGB6', 'PUTGB7', 'PUTGB8', 'PUTGB9', 'PUTGB10', 'PUTGB11', 'PUTGB12', 'PUTGB13', 'PUTGB14', 'PUTGB15', 'PUTGB16', 'PUTGB17', 'PUTGB18', 'PUTGB19', 'PUTGB20', 'PUTGB21', 'PUTGB22', 'PUTGB23', 'PUTGB24', 'PUTGB25', \n",
    "            ] + trg_ispt_cols + trg_yCols"
   ]
  },
  {
   "cell_type": "markdown",
   "id": "dca572f7",
   "metadata": {},
   "source": [
    "## regression data set 재구축"
   ]
  },
  {
   "cell_type": "code",
   "execution_count": 6,
   "id": "c0ddf1d1",
   "metadata": {},
   "outputs": [
    {
     "data": {
      "text/plain": [
       "'LAB: (7530, 181), CMB: (9123, 181), FMB: (17478, 181), TOTAL: (34131, 181)'"
      ]
     },
     "metadata": {},
     "output_type": "display_data"
    },
    {
     "data": {
      "text/plain": [
       "(34131, 181)"
      ]
     },
     "execution_count": 6,
     "metadata": {},
     "output_type": "execute_result"
    }
   ],
   "source": [
    "# 데이터별 컬럼명 단일화를 위한 dictionary 정의\n",
    "lab_rename_dic = {'lab_pk': 'ID',\n",
    "                        '1_JRCODE': 'JRCODE1', '2_JRCODE': 'JRCODE2', '3_JRCODE': 'JRCODE3', '4_JRCODE': 'JRCODE4', '5_JRCODE': 'JRCODE5', '6_JRCODE': 'JRCODE6', '7_JRCODE': 'JRCODE7', '8_JRCODE': 'JRCODE8', '9_JRCODE': 'JRCODE9', '10_JRCODE': 'JRCODE10', '11_JRCODE': 'JRCODE11', '12_JRCODE': 'JRCODE12', '13_JRCODE': 'JRCODE13', '14_JRCODE': 'JRCODE14', '15_JRCODE': 'JRCODE15', '16_JRCODE': 'JRCODE16', '17_JRCODE': 'JRCODE17', '18_JRCODE': 'JRCODE18', '19_JRCODE': 'JRCODE19', '20_JRCODE': 'JRCODE20',\n",
    "                        '1_PHR': 'PHR1', '2_PHR': 'PHR2', '3_PHR': 'PHR3', '4_PHR': 'PHR4', '5_PHR': 'PHR5', '6_PHR': 'PHR6', '7_PHR': 'PHR7', '8_PHR': 'PHR8', '9_PHR': 'PHR9', '10_PHR': 'PHR10', '11_PHR': 'PHR11', '12_PHR': 'PHR12', '13_PHR': 'PHR13', '14_PHR': 'PHR14', '15_PHR': 'PHR15', '16_PHR': 'PHR16', '17_PHR': 'PHR17', '18_PHR': 'PHR18', '19_PHR': 'PHR19', '20_PHR': 'PHR20',\n",
    "                        }\n",
    "mes_cmb_rename_dic = {'LOTNO': 'ID',\n",
    "                        '1_JRCODE': 'JRCODE1', '2_JRCODE': 'JRCODE2', '3_JRCODE': 'JRCODE3', '4_JRCODE': 'JRCODE4', '5_JRCODE': 'JRCODE5', '6_JRCODE': 'JRCODE6', '7_JRCODE': 'JRCODE7', '8_JRCODE': 'JRCODE8', '9_JRCODE': 'JRCODE9', '10_JRCODE': 'JRCODE10', '11_JRCODE': 'JRCODE11', '12_JRCODE': 'JRCODE12', '13_JRCODE': 'JRCODE13', '14_JRCODE': 'JRCODE14', '15_JRCODE': 'JRCODE15', '16_JRCODE': 'JRCODE16', '17_JRCODE': 'JRCODE17', '18_JRCODE': 'JRCODE18', '19_JRCODE': 'JRCODE19', '20_JRCODE': 'JRCODE20', '21_JRCODE': 'JRCODE21',\n",
    "                        '1_PHR': 'PHR1', '2_PHR': 'PHR2', '3_PHR': 'PHR3', '4_PHR': 'PHR4', '5_PHR': 'PHR5', '6_PHR': 'PHR6', '7_PHR': 'PHR7', '8_PHR': 'PHR8', '9_PHR': 'PHR9', '10_PHR': 'PHR10', '11_PHR': 'PHR11', '12_PHR': 'PHR12', '13_PHR': 'PHR13', '14_PHR': 'PHR14', '15_PHR': 'PHR15', '16_PHR': 'PHR16', '17_PHR': 'PHR17', '18_PHR': 'PHR18', '19_PHR': 'PHR19', '20_PHR': 'PHR20', '21_PHR': 'PHR21',\n",
    "                        '1_PUTGB': 'PUTGB1', '2_PUTGB': 'PUTGB2', '3_PUTGB': 'PUTGB3', '4_PUTGB': 'PUTGB4', '5_PUTGB': 'PUTGB5', '6_PUTGB': 'PUTGB6', '7_PUTGB': 'PUTGB7', '8_PUTGB': 'PUTGB8', '9_PUTGB': 'PUTGB9', '10_PUTGB': 'PUTGB10', '11_PUTGB': 'PUTGB11', '12_PUTGB': 'PUTGB12', '13_PUTGB': 'PUTGB13', '14_PUTGB': 'PUTGB14', '15_PUTGB': 'PUTGB15', '16_PUTGB': 'PUTGB16', '17_PUTGB': 'PUTGB17', '18_PUTGB': 'PUTGB18', '19_PUTGB': 'PUTGB19', '20_PUTGB': 'PUTGB20', '21_PUTGB': 'PUTGB21'\n",
    "                        }\n",
    "mes_fmb_rename_dic = {'LOTNO': 'ID',\n",
    "                        '1_JRCODE': 'JRCODE1', '2_JRCODE': 'JRCODE2', '3_JRCODE': 'JRCODE3', '4_JRCODE': 'JRCODE4', '5_JRCODE': 'JRCODE5', '6_JRCODE': 'JRCODE6', '7_JRCODE': 'JRCODE7', '8_JRCODE': 'JRCODE8', '9_JRCODE': 'JRCODE9', '10_JRCODE': 'JRCODE10', '11_JRCODE': 'JRCODE11', '12_JRCODE': 'JRCODE12', '13_JRCODE': 'JRCODE13', '14_JRCODE': 'JRCODE14', '15_JRCODE': 'JRCODE15', '16_JRCODE': 'JRCODE16', '17_JRCODE': 'JRCODE17', '18_JRCODE': 'JRCODE18', '19_JRCODE': 'JRCODE19', '20_JRCODE': 'JRCODE20', '21_JRCODE': 'JRCODE21', '22_JRCODE': 'JRCODE22', '23_JRCODE': 'JRCODE23', '24_JRCODE': 'JRCODE24', '25_JRCODE': 'JRCODE25',\n",
    "                        '1_PHR': 'PHR1', '2_PHR': 'PHR2', '3_PHR': 'PHR3', '4_PHR': 'PHR4', '5_PHR': 'PHR5', '6_PHR': 'PHR6', '7_PHR': 'PHR7', '8_PHR': 'PHR8', '9_PHR': 'PHR9', '10_PHR': 'PHR10', '11_PHR': 'PHR11', '12_PHR': 'PHR12', '13_PHR': 'PHR13', '14_PHR': 'PHR14', '15_PHR': 'PHR15', '16_PHR': 'PHR16', '17_PHR': 'PHR17', '18_PHR': 'PHR18', '19_PHR': 'PHR19', '20_PHR': 'PHR20', '21_PHR': 'PHR21', '22_PHR': 'PHR22', '23_PHR': 'PHR23', '24_PHR': 'PHR24', '25_PHR': 'PHR25',\n",
    "                        '1_PUTGB': 'PUTGB1', '2_PUTGB': 'PUTGB2', '3_PUTGB': 'PUTGB3', '4_PUTGB': 'PUTGB4', '5_PUTGB': 'PUTGB5', '6_PUTGB': 'PUTGB6', '7_PUTGB': 'PUTGB7', '8_PUTGB': 'PUTGB8', '9_PUTGB': 'PUTGB9', '10_PUTGB': 'PUTGB10', '11_PUTGB': 'PUTGB11', '12_PUTGB': 'PUTGB12', '13_PUTGB': 'PUTGB13', '14_PUTGB': 'PUTGB14', '15_PUTGB': 'PUTGB15', '16_PUTGB': 'PUTGB16', '17_PUTGB': 'PUTGB17', '18_PUTGB': 'PUTGB18', '19_PUTGB': 'PUTGB19', '20_PUTGB': 'PUTGB20', '21_PUTGB': 'PUTGB21', '22_PUTGB': 'PUTGB22', '23_PUTGB': 'PUTGB23', '24_PUTGB': 'PUTGB24', '25_PUTGB': 'PUTGB25',\n",
    "                        }\n",
    "\n",
    "# 데이터별 파일 로드\n",
    "lab_regr_df = pd.read_csv(in_file_path+f'lab_pps_whole_data_fin_noZero.csv')\n",
    "mes_cmb_df = pd.read_csv(in_file_path+f'mes_cmb_pps_whole_data_fin_noZero.csv')\n",
    "mes_fmb_df = pd.read_csv(in_file_path+f'mes_fmb_pps_whole_data_fin_noZero.csv')\n",
    "\n",
    "# 데이터별 컬럼명 단일화\n",
    "lab_regr_df.rename(columns=lab_rename_dic,inplace=True)\n",
    "mes_cmb_df.rename(columns=mes_cmb_rename_dic,inplace=True)\n",
    "mes_fmb_df.rename(columns=mes_fmb_rename_dic,inplace=True)\n",
    "\n",
    "# 데이터 종류 변수 추가\n",
    "lab_regr_df['TYPE'] = 'LAB'\n",
    "mes_cmb_df['TYPE'] = 'mCMB'\n",
    "mes_fmb_df['TYPE'] = 'mFMB'\n",
    "\n",
    "# 데이터별 누락된 컬럼을 nan값을 채워서 추가\n",
    "for fCol in fin_cols:\n",
    "    if fCol not in lab_regr_df.columns:\n",
    "        lab_regr_df[fCol] = np.nan\n",
    "    if fCol not in mes_cmb_df.columns:\n",
    "        mes_cmb_df[fCol] = np.nan\n",
    "    if fCol not in mes_fmb_df.columns:\n",
    "        mes_fmb_df[fCol] = np.nan\n",
    "\n",
    "# 필요 없는 컬럼 제거\n",
    "mes_fmb_df.drop(columns=['RUBBER'], inplace=True)\n",
    "\n",
    "# 컬럼 순서 동일화\n",
    "lab_regr_df = lab_regr_df[fin_cols]\n",
    "mes_cmb_df = mes_cmb_df[fin_cols]\n",
    "mes_fmb_df = mes_fmb_df[fin_cols]\n",
    "\n",
    "# 데이터 통합\n",
    "combined_df = pd.concat([lab_regr_df, mes_cmb_df, mes_fmb_df])\n",
    "\n",
    "# 결과 출력\n",
    "display(f'LAB: {lab_regr_df.shape}, CMB: {mes_cmb_df.shape}, FMB: {mes_fmb_df.shape}, TOTAL: {combined_df.shape}')\n",
    "\n",
    "# 무한대 라벨 값 Nan으로 대체, Nan 라벨 값 제거\n",
    "for yCol in trg_yCols:\n",
    "    combined_df[yCol].replace([np.inf, -np.inf], np.nan, inplace=True)\n",
    "    combined_df.dropna(subset=[yCol], how=\"all\", inplace=True)\n",
    "\n",
    "# 통합 데이터 저장\n",
    "combined_df.to_csv(out_file_path+f'combined_pps_data_fin.csv', index=False)\n",
    "combined_df.shape"
   ]
  }
 ],
 "metadata": {
  "kernelspec": {
   "display_name": "python3.11",
   "language": "python",
   "name": "python3"
  },
  "language_info": {
   "codemirror_mode": {
    "name": "ipython",
    "version": 3
   },
   "file_extension": ".py",
   "mimetype": "text/x-python",
   "name": "python",
   "nbconvert_exporter": "python",
   "pygments_lexer": "ipython3",
   "version": "3.11.5"
  }
 },
 "nbformat": 4,
 "nbformat_minor": 5
}
