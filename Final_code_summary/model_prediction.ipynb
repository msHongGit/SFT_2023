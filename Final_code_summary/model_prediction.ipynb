{
 "cells": [
  {
   "cell_type": "code",
   "execution_count": null,
   "id": "09f7c47c",
   "metadata": {},
   "outputs": [],
   "source": [
    "# 파일이름 : model_prediction.ipynb\n",
    "# 코드설명 : MLOps에 탑재하기 위한 최종 선정 모델의 물성 및 불량여부 예측 예제 코드\n",
    "# 입/출력 : 물성별(물성값, 불량여부) 데이터 세트와 예측 대상별 학습된 모델들 / 테스트 데이터에 대한 물성(들)의 예측 결과\n",
    "# 유의 사항 : 선정된 모델의 기술명칭 및 대상 물성 명칭을 설정 필요\n",
    "# 최종수정 : 2023년 11월 20일\n",
    "# 제 작 자 : 홍민성 (mshong@micube.co.kr), 맹영준 (myj6223@micube.co.kr)\n",
    "# Copyright : MICUBE Solution, Inc.\n",
    "\n",
    "# python 버전 : 3.9.18\n",
    "# autogluon 버전 : 0.8.2"
   ]
  },
  {
   "cell_type": "code",
   "execution_count": 1,
   "id": "b23b0832",
   "metadata": {
    "tags": []
   },
   "outputs": [],
   "source": [
    "# 관련 라이브러리 로드\n",
    "import numpy as np\n",
    "import pandas as pd\n",
    "pd.set_option(\"display.max_columns\", 500)\n",
    "pd.set_option('display.max_rows', 50)\n",
    "\n",
    "import os\n",
    "import random\n",
    "import warnings\n",
    "warnings.filterwarnings(action='ignore')\n",
    "\n",
    "from sklearn.model_selection import train_test_split\n",
    "\n",
    "# autoML\n",
    "from autogluon.tabular import TabularPredictor\n",
    "\n",
    "# 동일 결과 재생성을 위한 랜덤성 고정\n",
    "seed = 42\n",
    "random.seed(seed)\n",
    "os.environ['PYTHONHASHSEED'] = str(seed)\n",
    "np.random.seed(seed)"
   ]
  },
  {
   "cell_type": "markdown",
   "id": "0fac2b14",
   "metadata": {},
   "source": [
    "## 예측 결과 보기\n",
    "- 예측 대상별로 최적 모델들을 분석, 최적의 모델 3-4개 선정"
   ]
  },
  {
   "cell_type": "code",
   "execution_count": 12,
   "id": "08824a26",
   "metadata": {
    "tags": []
   },
   "outputs": [
    {
     "data": {
      "text/plain": [
       "\"'HS': ['SFT_regr/combined_HS_models', 'LightGBM_BAG_L2']\""
      ]
     },
     "metadata": {},
     "output_type": "display_data"
    },
    {
     "data": {
      "text/plain": [
       "\"'SG': ['SFT_regr/combined_SG_models', 'LightGBM_BAG_L2']\""
      ]
     },
     "metadata": {},
     "output_type": "display_data"
    },
    {
     "data": {
      "text/plain": [
       "\"'TS': ['SFT_regr/combined_TS_models', 'LightGBM_BAG_L2']\""
      ]
     },
     "metadata": {},
     "output_type": "display_data"
    },
    {
     "data": {
      "text/plain": [
       "\"'EB': ['SFT_regr/combined_EB_models', 'LightGBM_BAG_L2']\""
      ]
     },
     "metadata": {},
     "output_type": "display_data"
    },
    {
     "data": {
      "text/plain": [
       "\"'HS_RESULT': ['SFT_clas/combined_HS_RESULT_models', 'XGBoost_BAG_L1']\""
      ]
     },
     "metadata": {},
     "output_type": "display_data"
    },
    {
     "data": {
      "text/plain": [
       "\"'SG_RESULT': ['SFT_clas/combined_SG_RESULT_models', 'XGBoost_BAG_L1']\""
      ]
     },
     "metadata": {},
     "output_type": "display_data"
    },
    {
     "data": {
      "text/plain": [
       "\"'TS_RESULT': ['SFT_clas/combined_TS_RESULT_models', 'XGBoost_BAG_L1']\""
      ]
     },
     "metadata": {},
     "output_type": "display_data"
    },
    {
     "data": {
      "text/plain": [
       "\"'EB_RESULT': ['SFT_clas/combined_EB_RESULT_models', 'XGBoost_BAG_L1']\""
      ]
     },
     "metadata": {},
     "output_type": "display_data"
    },
    {
     "name": "stdout",
     "output_type": "stream",
     "text": [
      "CPU times: user 22.3 s, sys: 2.63 s, total: 24.9 s\n",
      "Wall time: 6.28 s\n"
     ]
    },
    {
     "data": {
      "text/plain": [
       "{'HS': [68.35274505615234,\n",
       "  72.52928924560547,\n",
       "  61.74452590942383,\n",
       "  67.82764434814453,\n",
       "  57.74105453491211],\n",
       " 'SG': [1.1907382011413574,\n",
       "  1.0847678184509277,\n",
       "  1.3059877157211304,\n",
       "  1.2382798194885254,\n",
       "  1.0756925344467163],\n",
       " 'TS': [151.11993408203125,\n",
       "  183.24851989746094,\n",
       "  112.12493896484375,\n",
       "  181.4371337890625,\n",
       "  182.76068115234375],\n",
       " 'EB': [584.5527954101562,\n",
       "  263.2105407714844,\n",
       "  511.177490234375,\n",
       "  441.7354431152344,\n",
       "  460.2165832519531],\n",
       " 'HS_RESULT': [1.0, 1.0, 1.0, 1.0, 1.0],\n",
       " 'SG_RESULT': [1.0, 1.0, 1.0, 1.0, 1.0],\n",
       " 'TS_RESULT': [1.0, 1.0, 1.0, 1.0, 1.0],\n",
       " 'EB_RESULT': [1.0, 1.0, 1.0, 1.0, 1.0]}"
      ]
     },
     "execution_count": 12,
     "metadata": {},
     "output_type": "execute_result"
    }
   ],
   "source": [
    "%%time\n",
    "loop_ls = [('regression','LightGBM_BAG_L2'),('binary','XGBoost_BAG_L1')]\n",
    "\n",
    "# 데이터셋 및 모델 로드\n",
    "train = pd.read_csv(f'./final_dataset/combined_data_HS_fin.csv')\n",
    "X_train, X_test, y_train, y_test = train_test_split(train.drop(['ID', 'REAL_VAL','TYPE'], axis=1), train['REAL_VAL'], test_size=0.2, random_state=seed)\n",
    "\n",
    "pred_dic = {}\n",
    "\n",
    "X_test = X_test.iloc[:5,:]\n",
    "\n",
    "for (problem_type_, model_name_) in loop_ls:\n",
    "    if problem_type_ == 'regression':\n",
    "        # 물성값 예측\n",
    "        yCols=['HS','SG','TS','EB']#,'MNY','REHO_MIN','REHO_MAX','REHO_TS2','REHO_TC90','SCR']\n",
    "        data_type_ = 'SFT_regr'\n",
    "    else:\n",
    "        # 불량여부 예측\n",
    "        yCols=['HS_RESULT','SG_RESULT','TS_RESULT','EB_RESULT']#,'MNY_RESULT','REHO_RESULT','SCR_RESULT']\n",
    "        data_type_ = 'SFT_clas'\n",
    "\n",
    "    for yCol in yCols:\n",
    "        # 모델 로드    \n",
    "        predictor = TabularPredictor.load(path=f'{data_type_}/combined_{yCol}_models', verbosity = 0)\n",
    "\n",
    "        # 테스트 세트에 대한 예측\n",
    "        pred_dic[yCol] = predictor.predict(X_test, model=model_name_).tolist()\n",
    "        display(f\"'{yCol}': ['{data_type_}/combined_{yCol}_models', '{model_name_}']\")\n",
    "pred_dic"
   ]
  }
 ],
 "metadata": {
  "kernelspec": {
   "display_name": "python3.9",
   "language": "python",
   "name": "python3"
  },
  "language_info": {
   "codemirror_mode": {
    "name": "ipython",
    "version": 3
   },
   "file_extension": ".py",
   "mimetype": "text/x-python",
   "name": "python",
   "nbconvert_exporter": "python",
   "pygments_lexer": "ipython3",
   "version": "3.9.18"
  }
 },
 "nbformat": 4,
 "nbformat_minor": 5
}
