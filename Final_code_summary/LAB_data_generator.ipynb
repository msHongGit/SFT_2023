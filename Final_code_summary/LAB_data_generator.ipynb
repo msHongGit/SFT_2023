{
 "cells": [
  {
   "cell_type": "code",
   "execution_count": null,
   "id": "3f7bdfb7",
   "metadata": {},
   "outputs": [],
   "source": [
    "# 파일이름 : LAB_data_generator.ipynb\n",
    "# 코드설명 : 고무 배합비와 연구소 검사 데이터에 대한 전처리 및 모델 학습 데이터 세트 생성\n",
    "# 입/출력 : 배합정보, LAB 검사결과, 원재료코드분류 / LAB 데이터 세트(7개)\n",
    "# 유의 사항 : -\n",
    "# 최종수정 : 2023년 11월 20일\n",
    "# 제 작 자 : 홍민성 (mshong@micube.co.kr), 맹영준 (myj6223@micube.co.kr)\n",
    "# Copyright : MICUBE Solution, Inc."
   ]
  },
  {
   "cell_type": "code",
   "execution_count": 1,
   "id": "3a378609",
   "metadata": {},
   "outputs": [],
   "source": [
    "import pandas as pd\n",
    "import numpy as np\n",
    "\n",
    "from tqdm import tqdm\n",
    "\n",
    "import seaborn as sns\n",
    "sns.set(rc={'figure.figsize':(15, 5)})\n",
    "%matplotlib inline\n",
    "\n",
    "import warnings\n",
    "warnings.filterwarnings(action='ignore')"
   ]
  },
  {
   "cell_type": "markdown",
   "id": "39476a3a",
   "metadata": {},
   "source": [
    "## 1. 데이터 로드 및 개별 데이터 이상치 수정, 결합"
   ]
  },
  {
   "cell_type": "markdown",
   "id": "0c2d5f55",
   "metadata": {},
   "source": [
    "### 1) 데이터 로드"
   ]
  },
  {
   "cell_type": "code",
   "execution_count": 2,
   "id": "4b8e45f5",
   "metadata": {},
   "outputs": [],
   "source": [
    "lab_recipe_df=pd.read_csv('./dataset/sfitapp_recipe_lab.csv')           # 배합비 데이터\n",
    "lab_insp_df=pd.read_csv('./dataset/insp_lab_val_df_remove.csv')         # 검사 데이터\n",
    "lar_cd_df=pd.read_excel('./dataset/jrcode_230907_fin.xlsx')             # 원재료 코드 및 분류표"
   ]
  },
  {
   "cell_type": "markdown",
   "id": "70617e70",
   "metadata": {},
   "source": [
    "### 2) 각 데이터 상의 이상치 수정 (레오, 무늬, PHR, 비중)"
   ]
  },
  {
   "cell_type": "markdown",
   "id": "9427428f",
   "metadata": {},
   "source": [
    "#### 레오 및 무늬 데이터 이상치 수정"
   ]
  },
  {
   "cell_type": "code",
   "execution_count": 3,
   "id": "c483e441",
   "metadata": {},
   "outputs": [
    {
     "data": {
      "text/plain": [
       "5    584\n",
       "Name: insp_mny_148_val, dtype: int64"
      ]
     },
     "execution_count": 3,
     "metadata": {},
     "output_type": "execute_result"
    }
   ],
   "source": [
    "# 레오 데이터 초 값으로 변경\n",
    "cols = ['insp_rheo_ts2_val','insp_rheo_t90_val']\n",
    "for col in cols:\n",
    "    lab_insp_df[col] = pd.to_datetime(lab_insp_df[col], format='%M:%S', errors='coerce')\n",
    "    lab_insp_df[col] = lab_insp_df[col].dt.minute*60 + lab_insp_df[col].dt.second\n",
    "    \n",
    "# 무늬 검사 시간 조정\n",
    "lab_insp_df['insp_mny_148_val'] = np.where((lab_insp_df['insp_mny_148_val']=='1+4'), 5, lab_insp_df['insp_mny_148_val'])\n",
    "lab_insp_df['insp_mny_148_val'].value_counts()"
   ]
  },
  {
   "cell_type": "markdown",
   "id": "ff5732de",
   "metadata": {},
   "source": [
    "#### 비중이 평균 1.2에 비해 너무 큰(135,119) 경우 제거\n",
    "- 1500PA017_T003,1600PA030_T005"
   ]
  },
  {
   "cell_type": "code",
   "execution_count": 5,
   "id": "a26d69b8",
   "metadata": {},
   "outputs": [
    {
     "data": {
      "text/plain": [
       "(6819, 63)"
      ]
     },
     "execution_count": 5,
     "metadata": {},
     "output_type": "execute_result"
    }
   ],
   "source": [
    "lab_insp_df=lab_insp_df[~(lab_insp_df['Combined_rm'].isin(['1500PA017_T003','1600PA030_T005']))]\n",
    "lab_insp_df.shape"
   ]
  },
  {
   "cell_type": "markdown",
   "id": "61e83952",
   "metadata": {},
   "source": [
    "#### PHR 관련 데이터 제거\n",
    "- 공통원재료 코드를 기반으로 뒤 2개의 문자열이 C를 포함하는 경우, 해당 문자열로 대치. 이외에는 공통원재료 코드 그대로 사용\t\n",
    "- 6가지 nan값은 제거, 제거된 데이터와 같은 항목의 데이터가 존재하여 분석에 문제 없음\t\n",
    "    - 160-4P-H001 T001, 160-4P-H001 T002, 160-4P-H001 T003, 160-4P-L001 T001, 160-4P-L001 T002, 160-4P-L001 T003"
   ]
  },
  {
   "cell_type": "code",
   "execution_count": 4,
   "id": "ab31fc3a",
   "metadata": {},
   "outputs": [
    {
     "data": {
      "text/html": [
       "<div>\n",
       "<style scoped>\n",
       "    .dataframe tbody tr th:only-of-type {\n",
       "        vertical-align: middle;\n",
       "    }\n",
       "\n",
       "    .dataframe tbody tr th {\n",
       "        vertical-align: top;\n",
       "    }\n",
       "\n",
       "    .dataframe thead th {\n",
       "        text-align: right;\n",
       "    }\n",
       "</style>\n",
       "<table border=\"1\" class=\"dataframe\">\n",
       "  <thead>\n",
       "    <tr style=\"text-align: right;\">\n",
       "      <th></th>\n",
       "      <th>lab_cd</th>\n",
       "      <th>test_no</th>\n",
       "      <th>srt_sqn</th>\n",
       "      <th>asgm_yn</th>\n",
       "      <th>com_lar_cd</th>\n",
       "      <th>com_lar_nm</th>\n",
       "      <th>lar_cd</th>\n",
       "      <th>lar_nm</th>\n",
       "      <th>hs_vl</th>\n",
       "      <th>sg_vl</th>\n",
       "      <th>...</th>\n",
       "      <th>mix_ds_cd</th>\n",
       "      <th>fct_cd</th>\n",
       "      <th>vol_vl</th>\n",
       "      <th>phr_sum</th>\n",
       "      <th>inpt_wgt_sum</th>\n",
       "      <th>hs_vl_sum</th>\n",
       "      <th>sg_vl_sum</th>\n",
       "      <th>rgs_dttm</th>\n",
       "      <th>upd_dttm</th>\n",
       "      <th>lar_tmp_cd</th>\n",
       "    </tr>\n",
       "  </thead>\n",
       "  <tbody>\n",
       "    <tr>\n",
       "      <th>31919</th>\n",
       "      <td>160-4P-H001</td>\n",
       "      <td>T001</td>\n",
       "      <td>11</td>\n",
       "      <td>N</td>\n",
       "      <td>NaN</td>\n",
       "      <td>NaN</td>\n",
       "      <td>NaN</td>\n",
       "      <td>NaN</td>\n",
       "      <td>NaN</td>\n",
       "      <td>NaN</td>\n",
       "      <td>...</td>\n",
       "      <td>-F1</td>\n",
       "      <td>T-4-05</td>\n",
       "      <td>0</td>\n",
       "      <td>128.0</td>\n",
       "      <td>0</td>\n",
       "      <td>0</td>\n",
       "      <td>36.571</td>\n",
       "      <td>2017-04-13 09:38:14</td>\n",
       "      <td>2017-05-10 17:06:35</td>\n",
       "      <td>NaN</td>\n",
       "    </tr>\n",
       "    <tr>\n",
       "      <th>31932</th>\n",
       "      <td>160-4P-H001</td>\n",
       "      <td>T002</td>\n",
       "      <td>11</td>\n",
       "      <td>N</td>\n",
       "      <td>NaN</td>\n",
       "      <td>NaN</td>\n",
       "      <td>NaN</td>\n",
       "      <td>NaN</td>\n",
       "      <td>NaN</td>\n",
       "      <td>NaN</td>\n",
       "      <td>...</td>\n",
       "      <td>-F1</td>\n",
       "      <td>T-4-05</td>\n",
       "      <td>0</td>\n",
       "      <td>0.0</td>\n",
       "      <td>0</td>\n",
       "      <td>0</td>\n",
       "      <td>0.000</td>\n",
       "      <td>2017-04-17 11:52:29</td>\n",
       "      <td>2017-04-19 01:24:15</td>\n",
       "      <td>NaN</td>\n",
       "    </tr>\n",
       "    <tr>\n",
       "      <th>31945</th>\n",
       "      <td>160-4P-H001</td>\n",
       "      <td>T003</td>\n",
       "      <td>11</td>\n",
       "      <td>N</td>\n",
       "      <td>NaN</td>\n",
       "      <td>NaN</td>\n",
       "      <td>NaN</td>\n",
       "      <td>NaN</td>\n",
       "      <td>NaN</td>\n",
       "      <td>NaN</td>\n",
       "      <td>...</td>\n",
       "      <td>-F1</td>\n",
       "      <td>T-4-05</td>\n",
       "      <td>76</td>\n",
       "      <td>132.0</td>\n",
       "      <td>2,931</td>\n",
       "      <td>0</td>\n",
       "      <td>37.714</td>\n",
       "      <td>2017-04-19 13:32:18</td>\n",
       "      <td>2017-04-20 14:40:32</td>\n",
       "      <td>NaN</td>\n",
       "    </tr>\n",
       "    <tr>\n",
       "      <th>32057</th>\n",
       "      <td>160-4P-L001</td>\n",
       "      <td>T001</td>\n",
       "      <td>11</td>\n",
       "      <td>N</td>\n",
       "      <td>NaN</td>\n",
       "      <td>NaN</td>\n",
       "      <td>NaN</td>\n",
       "      <td>NaN</td>\n",
       "      <td>NaN</td>\n",
       "      <td>NaN</td>\n",
       "      <td>...</td>\n",
       "      <td>-F1</td>\n",
       "      <td>T-4-05</td>\n",
       "      <td>76</td>\n",
       "      <td>0.0</td>\n",
       "      <td>0</td>\n",
       "      <td>0</td>\n",
       "      <td>0.000</td>\n",
       "      <td>2017-04-27 10:49:37</td>\n",
       "      <td>2017-04-27 22:25:16</td>\n",
       "      <td>NaN</td>\n",
       "    </tr>\n",
       "    <tr>\n",
       "      <th>32070</th>\n",
       "      <td>160-4P-L001</td>\n",
       "      <td>T002</td>\n",
       "      <td>11</td>\n",
       "      <td>N</td>\n",
       "      <td>NaN</td>\n",
       "      <td>NaN</td>\n",
       "      <td>NaN</td>\n",
       "      <td>NaN</td>\n",
       "      <td>NaN</td>\n",
       "      <td>NaN</td>\n",
       "      <td>...</td>\n",
       "      <td>-F1</td>\n",
       "      <td>T-4-05</td>\n",
       "      <td>76</td>\n",
       "      <td>0.0</td>\n",
       "      <td>0</td>\n",
       "      <td>0</td>\n",
       "      <td>0.000</td>\n",
       "      <td>2017-05-03 09:51:24</td>\n",
       "      <td>2017-05-03 15:30:33</td>\n",
       "      <td>NaN</td>\n",
       "    </tr>\n",
       "    <tr>\n",
       "      <th>32083</th>\n",
       "      <td>160-4P-L001</td>\n",
       "      <td>T003</td>\n",
       "      <td>11</td>\n",
       "      <td>N</td>\n",
       "      <td>NaN</td>\n",
       "      <td>NaN</td>\n",
       "      <td>NaN</td>\n",
       "      <td>NaN</td>\n",
       "      <td>NaN</td>\n",
       "      <td>NaN</td>\n",
       "      <td>...</td>\n",
       "      <td>-F1</td>\n",
       "      <td>T-4-05</td>\n",
       "      <td>76</td>\n",
       "      <td>0.0</td>\n",
       "      <td>0</td>\n",
       "      <td>0</td>\n",
       "      <td>0.000</td>\n",
       "      <td>2017-05-08 11:12:35</td>\n",
       "      <td>2017-05-08 23:19:36</td>\n",
       "      <td>NaN</td>\n",
       "    </tr>\n",
       "  </tbody>\n",
       "</table>\n",
       "<p>6 rows × 22 columns</p>\n",
       "</div>"
      ],
      "text/plain": [
       "            lab_cd test_no  srt_sqn asgm_yn com_lar_cd com_lar_nm lar_cd  \\\n",
       "31919  160-4P-H001    T001       11       N        NaN        NaN    NaN   \n",
       "31932  160-4P-H001    T002       11       N        NaN        NaN    NaN   \n",
       "31945  160-4P-H001    T003       11       N        NaN        NaN    NaN   \n",
       "32057  160-4P-L001    T001       11       N        NaN        NaN    NaN   \n",
       "32070  160-4P-L001    T002       11       N        NaN        NaN    NaN   \n",
       "32083  160-4P-L001    T003       11       N        NaN        NaN    NaN   \n",
       "\n",
       "      lar_nm  hs_vl  sg_vl  ... mix_ds_cd  fct_cd vol_vl phr_sum inpt_wgt_sum  \\\n",
       "31919    NaN    NaN    NaN  ...       -F1  T-4-05      0   128.0            0   \n",
       "31932    NaN    NaN    NaN  ...       -F1  T-4-05      0     0.0            0   \n",
       "31945    NaN    NaN    NaN  ...       -F1  T-4-05     76   132.0        2,931   \n",
       "32057    NaN    NaN    NaN  ...       -F1  T-4-05     76     0.0            0   \n",
       "32070    NaN    NaN    NaN  ...       -F1  T-4-05     76     0.0            0   \n",
       "32083    NaN    NaN    NaN  ...       -F1  T-4-05     76     0.0            0   \n",
       "\n",
       "      hs_vl_sum sg_vl_sum             rgs_dttm             upd_dttm lar_tmp_cd  \n",
       "31919         0    36.571  2017-04-13 09:38:14  2017-05-10 17:06:35        NaN  \n",
       "31932         0     0.000  2017-04-17 11:52:29  2017-04-19 01:24:15        NaN  \n",
       "31945         0    37.714  2017-04-19 13:32:18  2017-04-20 14:40:32        NaN  \n",
       "32057         0     0.000  2017-04-27 10:49:37  2017-04-27 22:25:16        NaN  \n",
       "32070         0     0.000  2017-05-03 09:51:24  2017-05-03 15:30:33        NaN  \n",
       "32083         0     0.000  2017-05-08 11:12:35  2017-05-08 23:19:36        NaN  \n",
       "\n",
       "[6 rows x 22 columns]"
      ]
     },
     "metadata": {},
     "output_type": "display_data"
    },
    {
     "data": {
      "text/plain": [
       "(105250, 22)"
      ]
     },
     "execution_count": 4,
     "metadata": {},
     "output_type": "execute_result"
    }
   ],
   "source": [
    "lab_recipe_df['lar_tmp_cd']=lab_recipe_df['com_lar_cd'].str[-2:]\n",
    "\n",
    "lab_recipe_df['lar_cd']=np.where((lab_recipe_df['lar_cd'].isna())&(lab_recipe_df['lar_tmp_cd'].str.contains('C')),lab_recipe_df['lar_tmp_cd'],\n",
    "                      np.where((lab_recipe_df['lar_cd'].isna()),lab_recipe_df['com_lar_cd'],lab_recipe_df['lar_cd']))\n",
    "\n",
    "display(lab_recipe_df[(lab_recipe_df['lar_cd'].isna())])\n",
    "\n",
    "lab_recipe_df=lab_recipe_df[~(lab_recipe_df['lar_cd'].isna())]\n",
    "lab_recipe_df.shape"
   ]
  },
  {
   "cell_type": "markdown",
   "id": "618f101a",
   "metadata": {},
   "source": [
    "### 3) 배합비와 검사 데이터, 원자재코드표 결합"
   ]
  },
  {
   "cell_type": "code",
   "execution_count": 6,
   "id": "b6a7f291",
   "metadata": {},
   "outputs": [],
   "source": [
    "# 기본 정보\n",
    "recipe_cols=['lab_pk','mix_ds_cd','srt_sqn','lar_cd','phr']\n",
    "\n",
    "# 기본물성 관련 검사 조건\n",
    "insp_pps_cols=['lab_pk','insp_pps_temp1_val','insp_pps_mnt1_val',\n",
    "           'insp_pps_hs_val','insp_pps_sg_val','insp_pps_ts_val','insp_pps_eb_val']\n",
    "\n",
    "# 가류/점도 관련 검사 조건\n",
    "insp_curing_cols = ['insp_rheo_ts2_val','insp_rheo_t90_val','insp_rheo_min_val','insp_rheo_max_val','insp_mny_min_val',\n",
    "                    'insp_mny_temp_val','insp_mny_148_val','insp_rheo_temp_val','insp_rheo_mnt_val']\n",
    "\n",
    "# 최종 원자재별 결합 데이터 포멧\n",
    "fin_cols = ['lab_pk','mix_ds_cd','srt_sqn','lar_cd','중분류','소분류','phr','insp_pps_temp1_val','insp_pps_mnt1_val',\n",
    "          'insp_pps_hs_val','insp_pps_sg_val','insp_pps_ts_val','insp_pps_eb_val',\n",
    "          'insp_rheo_ts2_val','insp_rheo_t90_val','insp_rheo_min_val','insp_rheo_max_val','insp_mny_min_val',\n",
    "          'insp_mny_temp_val','insp_mny_148_val','insp_rheo_temp_val','insp_rheo_mnt_val']"
   ]
  },
  {
   "cell_type": "code",
   "execution_count": 7,
   "id": "6b70efe5",
   "metadata": {},
   "outputs": [
    {
     "data": {
      "text/plain": [
       "'검사 데이터의 lab_pk 수: 6,819, 레시피 데이터의 lab_pk 수: 6,754'"
      ]
     },
     "metadata": {},
     "output_type": "display_data"
    },
    {
     "data": {
      "text/plain": [
       "'교차: 6,750'"
      ]
     },
     "metadata": {},
     "output_type": "display_data"
    },
    {
     "name": "stdout",
     "output_type": "stream",
     "text": [
      "(105168, 22)\n",
      "<class 'pandas.core.frame.DataFrame'>\n",
      "RangeIndex: 105168 entries, 0 to 105167\n",
      "Data columns (total 22 columns):\n",
      " #   Column              Non-Null Count   Dtype  \n",
      "---  ------              --------------   -----  \n",
      " 0   lab_pk              105168 non-null  object \n",
      " 1   mix_ds_cd           105168 non-null  object \n",
      " 2   srt_sqn             105168 non-null  int64  \n",
      " 3   lar_cd              105168 non-null  object \n",
      " 4   중분류                 98454 non-null   object \n",
      " 5   소분류                 98454 non-null   object \n",
      " 6   phr                 105168 non-null  object \n",
      " 7   insp_pps_temp1_val  97343 non-null   float64\n",
      " 8   insp_pps_mnt1_val   97130 non-null   float64\n",
      " 9   insp_pps_hs_val     66433 non-null   float64\n",
      " 10  insp_pps_sg_val     66541 non-null   float64\n",
      " 11  insp_pps_ts_val     65635 non-null   float64\n",
      " 12  insp_pps_eb_val     65792 non-null   float64\n",
      " 13  insp_rheo_ts2_val   67694 non-null   float64\n",
      " 14  insp_rheo_t90_val   68028 non-null   float64\n",
      " 15  insp_rheo_min_val   67717 non-null   float64\n",
      " 16  insp_rheo_max_val   68282 non-null   float64\n",
      " 17  insp_mny_min_val    64404 non-null   float64\n",
      " 18  insp_mny_temp_val   96997 non-null   float64\n",
      " 19  insp_mny_148_val    8542 non-null    object \n",
      " 20  insp_rheo_temp_val  98287 non-null   float64\n",
      " 21  insp_rheo_mnt_val   97598 non-null   float64\n",
      "dtypes: float64(14), int64(1), object(7)\n",
      "memory usage: 17.7+ MB\n"
     ]
    }
   ],
   "source": [
    "# lab_pk 생성 및 데이터 결합\n",
    "lab_recipe_df['lab_pk']=lab_recipe_df['lab_cd'].str.replace('-','')+'_'+lab_recipe_df['test_no'].str.replace('-','')\n",
    "lab_insp_df['lab_pk']=lab_insp_df['Combined_rm']\n",
    "display(f\"검사 데이터의 lab_pk 수: {lab_insp_df['lab_pk'].nunique():,}, 레시피 데이터의 lab_pk 수: {lab_recipe_df['lab_pk'].nunique():,}\")\n",
    "display(f\"교차: {len(set(lab_insp_df['lab_pk'].unique().tolist()).intersection(set(lab_recipe_df['lab_pk'].unique().tolist()))):,}\")\n",
    "\n",
    "# 레시피와 검사 데이터 결합\n",
    "lab_df=pd.merge(lab_recipe_df[recipe_cols],lab_insp_df[insp_pps_cols + insp_curing_cols],how='inner',on='lab_pk')\n",
    "lab_df['CODE']=lab_df['lar_cd'].replace('-','').str[:2]\n",
    "\n",
    "remain_lab_df=lab_df[lab_df['CODE'].str.match('C[1-9]')]\n",
    "remain_lab_df.drop(columns=['CODE'],inplace=True)\n",
    "remain_lab_df['중분류']=np.nan\n",
    "remain_lab_df['소분류']=np.nan\n",
    "remain_lab_df=remain_lab_df[fin_cols]\n",
    "\n",
    "# 원자재의 중/소분류 추가\n",
    "lar_cd_df['CODE'] = lar_cd_df['First CODE'] + lar_cd_df['Second CODE']\n",
    "fin_lab_df=pd.merge(lab_df, lar_cd_df[['CODE','중분류','소분류']], how='inner', on='CODE')\n",
    "fin_lab_df=fin_lab_df[fin_cols]\n",
    "fin_lab_df=pd.concat([fin_lab_df,remain_lab_df],axis=0)\n",
    "fin_lab_df=fin_lab_df.sort_values(by=['lab_pk','srt_sqn'])\n",
    "fin_lab_df.reset_index(drop=True,inplace=True)\n",
    "print(fin_lab_df.shape)\n",
    "fin_lab_df.info()"
   ]
  },
  {
   "cell_type": "markdown",
   "id": "97fca3e2",
   "metadata": {},
   "source": [
    "## 2. 결합 데이터 이상치 수정 및 분포 시각화 검토"
   ]
  },
  {
   "cell_type": "markdown",
   "id": "b41798a5",
   "metadata": {},
   "source": [
    "### 1) 데이터 타입 변경"
   ]
  },
  {
   "cell_type": "markdown",
   "id": "3e80ee80",
   "metadata": {},
   "source": [
    "#### mix_ds_cd : string\n",
    "- 앞에 '-' 문자 제거"
   ]
  },
  {
   "cell_type": "code",
   "execution_count": 8,
   "id": "1aa66f19",
   "metadata": {},
   "outputs": [
    {
     "data": {
      "text/plain": [
       "(C1    69865\n",
       " F1    34870\n",
       " *F      418\n",
       " C2       15\n",
       " Name: mix_ds_cd, dtype: Int64,\n",
       " C1    0.664318\n",
       " F1    0.331565\n",
       " *F    0.003975\n",
       " C2    0.000143\n",
       " Name: mix_ds_cd, dtype: Float64)"
      ]
     },
     "execution_count": 8,
     "metadata": {},
     "output_type": "execute_result"
    }
   ],
   "source": [
    "col='mix_ds_cd'\n",
    "fin_lab_df[col]=fin_lab_df[col].astype('string')\n",
    "fin_lab_df[col]=fin_lab_df[col].str.replace('-','') # -문자 제거\n",
    "fin_lab_df[col].value_counts(),fin_lab_df[col].value_counts(normalize=True)"
   ]
  },
  {
   "cell_type": "markdown",
   "id": "473a9ee9",
   "metadata": {},
   "source": [
    "#### lab_pk, lar_cd, 중분류, 소분류 :  string"
   ]
  },
  {
   "cell_type": "code",
   "execution_count": null,
   "id": "c3966690",
   "metadata": {},
   "outputs": [],
   "source": [
    "col='lab_pk'\n",
    "fin_lab_df[col]=fin_lab_df[col].astype('string')\n",
    "col='lar_cd'\n",
    "fin_lab_df[col]=fin_lab_df[col].astype('string')\n",
    "col='중분류'\n",
    "fin_lab_df[col]=fin_lab_df[col].astype('string')\n",
    "col='소분류'\n",
    "fin_lab_df[col]=fin_lab_df[col].astype('string')\n",
    "col='mix_ds_cd'\n",
    "fin_lab_df[col]=fin_lab_df[col].astype('string')"
   ]
  },
  {
   "cell_type": "markdown",
   "id": "3d910360",
   "metadata": {},
   "source": [
    "### 2) PHR 데이터 상대적 조정\n",
    "- 최대 100으로 조정\n",
    "- Fn과 Cn에 따른 데이터 필터링 등"
   ]
  },
  {
   "cell_type": "markdown",
   "id": "831c4c7b",
   "metadata": {},
   "source": [
    "#### phr : float64, 값의 범위 체크해야함. [2분정도 소요]\n",
    "- phr 이 일반적으로 100을 넘기지 않는데 (100이하 97.3%), 넘는 부분들이 발생\n",
    "- 황다혜 수석님과 논의 후, 100을 넘기는 lab_cd와 test_no 리스트를 화인테크에 검토받기로 하여 자료 넘김\n",
    "    - 1-1) 각 검사별(lab_cd/test_no)로 최대 phr이 100이 아닌 경우\t\n",
    "        - mix_ds_cd == Cn인 경우, (value/최대값*100)으로 변환 후 사용\n",
    "        - mix_ds_cd == *F은 Fn보다 우선됨, *F과 Cn 데이터들을 포함하여 (value/최대값*100)으로 변환 후 사용\n",
    "        - mix_ds_cd == Fn인 경우, Cn 데이터들을 포함하여 (value/최대값*100)으로 변환 후 사용\n",
    "\t\n",
    "    - 1-2) 각 검사별(lab_cd/test_no)로 최대 phr이 100인 경우, 그대로 사용\t"
   ]
  },
  {
   "cell_type": "code",
   "execution_count": 9,
   "id": "ade5399c",
   "metadata": {},
   "outputs": [
    {
     "name": "stdout",
     "output_type": "stream",
     "text": [
      "6726\n",
      "ori: 105168 sum: 105168\n"
     ]
    },
    {
     "name": "stderr",
     "output_type": "stream",
     "text": [
      "100%|██████████| 6726/6726 [02:39<00:00, 42.09it/s] "
     ]
    },
    {
     "name": "stdout",
     "output_type": "stream",
     "text": [
      "PHR(!=100) 조정 완료!\n",
      "phr>100인 row #:  0\n"
     ]
    },
    {
     "name": "stderr",
     "output_type": "stream",
     "text": [
      "\n"
     ]
    }
   ],
   "source": [
    "# 데이터 체크\n",
    "fin_lab_df['phr']=fin_lab_df['phr'].astype(str).str.replace(',','').astype(float)\n",
    "fin_lab_df['phr'].dtype\n",
    "\n",
    "# 최대 phr가 100이 아닌 lab_pk 리스트 생성\n",
    "tmp_df=fin_lab_df.groupby(['lab_pk'])['phr'].max().reset_index()\n",
    "nonePHR100_ls=tmp_df[tmp_df['phr']!=100]['lab_pk'].unique().tolist()\n",
    "print(len(nonePHR100_ls))\n",
    "\n",
    "# 구분하여 생성\n",
    "PHR100_lab_tmp=fin_lab_df[~(fin_lab_df['lab_pk'].isin(nonePHR100_ls))]\n",
    "nonePHR100_lab_tmp=fin_lab_df[(fin_lab_df['lab_pk'].isin(nonePHR100_ls))]\n",
    "print('ori:',len(fin_lab_df),'sum:',len(PHR100_lab_tmp)+len(nonePHR100_lab_tmp))\n",
    "\n",
    "# none PHR 100 조정\n",
    "nonePHR100_lab_fin=pd.DataFrame()\n",
    "for nonePHR100_pk in tqdm(nonePHR100_ls):\n",
    "    tmp_df=nonePHR100_lab_tmp[nonePHR100_lab_tmp['lab_pk']==nonePHR100_pk]\n",
    "    maxPhr=tmp_df['phr'].max()\n",
    "    \n",
    "    cn_ls=tmp_df[tmp_df['mix_ds_cd'].str.contains('C')]['mix_ds_cd'].unique().tolist()\n",
    "    f_ls=tmp_df[tmp_df['mix_ds_cd'].str.contains('F')]['mix_ds_cd'].unique().tolist()\n",
    "    \n",
    "    for cn_val in cn_ls:\n",
    "        tmp_cn_df=tmp_df[tmp_df['mix_ds_cd']==cn_val]\n",
    "        maxPhr=tmp_cn_df['phr'].max()\n",
    "        tmp_cn_df['phr']=tmp_cn_df['phr']/maxPhr*100\n",
    "        nonePHR100_lab_fin=pd.concat([nonePHR100_lab_fin,tmp_cn_df],axis=0)\n",
    "    \n",
    "    if len(f_ls)!=0:\n",
    "        if '*F' in f_ls:\n",
    "            tmp_f_df=tmp_df[tmp_df['mix_ds_cd']!='F1']\n",
    "            maxPhr=tmp_f_df['phr'].max()\n",
    "            tmp_f_df['phr']=tmp_f_df['phr']/maxPhr*100\n",
    "            tmp_f_df['mix_ds_cd']='*F'\n",
    "            nonePHR100_lab_fin=pd.concat([nonePHR100_lab_fin,tmp_f_df],axis=0)\n",
    "        else:\n",
    "            tmp_f_df=tmp_df[tmp_df['mix_ds_cd']!='*F']\n",
    "            maxPhr=tmp_f_df['phr'].max()\n",
    "            tmp_f_df['phr']=tmp_f_df['phr']/maxPhr*100\n",
    "            tmp_f_df['mix_ds_cd']='F1'\n",
    "            nonePHR100_lab_fin=pd.concat([nonePHR100_lab_fin,tmp_f_df],axis=0)\n",
    "print('PHR(!=100) 조정 완료!')\n",
    "\n",
    "# 결합\n",
    "fin_lab_df=pd.concat([PHR100_lab_tmp,nonePHR100_lab_fin],axis=0)\n",
    "print('phr>100인 row #: ',len(fin_lab_df[fin_lab_df['phr']>100]))\n",
    "fin_lab_df[fin_lab_df['phr']>100]\n",
    "fin_lab_df.reset_index(drop=True, inplace=True)"
   ]
  },
  {
   "cell_type": "code",
   "execution_count": 10,
   "id": "1f3f3bf8",
   "metadata": {
    "scrolled": false
   },
   "outputs": [
    {
     "data": {
      "text/plain": [
       "<seaborn.axisgrid.FacetGrid at 0x2d8f963ebb0>"
      ]
     },
     "execution_count": 10,
     "metadata": {},
     "output_type": "execute_result"
    },
    {
     "data": {
      "image/png": "[encoded data removed]",
      "text/plain": [
       "<Figure size 600x200 with 1 Axes>"
      ]
     },
     "metadata": {},
     "output_type": "display_data"
    }
   ],
   "source": [
    "# phr 분포 시각화\n",
    "sns.displot(fin_lab_df['phr'], height=2, aspect=3)"
   ]
  },
  {
   "cell_type": "markdown",
   "id": "102b476e",
   "metadata": {},
   "source": [
    "### 3) 변수별 분포 시각화 및 이상치 점검"
   ]
  },
  {
   "cell_type": "markdown",
   "id": "c53bad44",
   "metadata": {},
   "source": [
    "#### 기본물성과 무늬, 레오에 대한 검사 온도의 분포 시각화, float64"
   ]
  },
  {
   "cell_type": "code",
   "execution_count": null,
   "id": "3ed3acf2",
   "metadata": {},
   "outputs": [
    {
     "data": {
      "image/png": "[encoded data removed]",
      "text/plain": [
       "<Figure size 600x200 with 1 Axes>"
      ]
     },
     "metadata": {},
     "output_type": "display_data"
    },
    {
     "data": {
      "image/png": "[encoded data removed]",
      "text/plain": [
       "<Figure size 600x200 with 1 Axes>"
      ]
     },
     "metadata": {},
     "output_type": "display_data"
    },
    {
     "data": {
      "image/png": "[encoded data removed]",
      "text/plain": [
       "<Figure size 600x200 with 1 Axes>"
      ]
     },
     "metadata": {},
     "output_type": "display_data"
    }
   ],
   "source": [
    "# 기본물성과 무늬, 레오에 대한 검사 온도의 분포 시각화\n",
    "temp_cols = ['insp_pps_temp1_val','insp_mny_temp_val','insp_rheo_temp_val']\n",
    "\n",
    "for col in temp_cols:\n",
    "    fin_lab_df[col]=fin_lab_df[col].astype('float64')\n",
    "    # display(fin_lab_df[col].dtype)\n",
    "    sns.displot(fin_lab_df[col], height=2, aspect=3)"
   ]
  },
  {
   "cell_type": "markdown",
   "id": "654d68fe",
   "metadata": {},
   "source": [
    "#### 기본물성과 무늬, 레오에 대한 검사 시간의 분포 시각화, float64"
   ]
  },
  {
   "cell_type": "code",
   "execution_count": 13,
   "metadata": {},
   "outputs": [
    {
     "data": {
      "image/png": "[encoded data removed]",
      "text/plain": [
       "<Figure size 600x200 with 1 Axes>"
      ]
     },
     "metadata": {},
     "output_type": "display_data"
    },
    {
     "data": {
      "image/png": "[encoded data removed]",
      "text/plain": [
       "<Figure size 600x200 with 1 Axes>"
      ]
     },
     "metadata": {},
     "output_type": "display_data"
    },
    {
     "data": {
      "image/png": "[encoded data removed]",
      "text/plain": [
       "<Figure size 600x200 with 1 Axes>"
      ]
     },
     "metadata": {},
     "output_type": "display_data"
    }
   ],
   "source": [
    "# 기본물성과 무늬, 레오에 대한 검사 시간의 분포 시각화\n",
    "time_cols = ['insp_pps_mnt1_val','insp_mny_148_val','insp_rheo_mnt_val']\n",
    "for col in time_cols:\n",
    "\n",
    "    fin_lab_df[col]=fin_lab_df[col].astype('float64')\n",
    "    # display(fin_lab_df[col].dtype)\n",
    "    # display(fin_lab_df[col].describe())\n",
    "    sns.displot(fin_lab_df[col], height=2, aspect=3)  "
   ]
  },
  {
   "cell_type": "markdown",
   "id": "af8f6466",
   "metadata": {},
   "source": [
    "#### insp_pps_hs_val 경도, float64"
   ]
  },
  {
   "cell_type": "code",
   "execution_count": 14,
   "id": "d4eac609",
   "metadata": {},
   "outputs": [
    {
     "data": {
      "text/plain": [
       "<seaborn.axisgrid.FacetGrid at 0x2d8f966bdc0>"
      ]
     },
     "execution_count": 14,
     "metadata": {},
     "output_type": "execute_result"
    },
    {
     "data": {
      "image/png": "[encoded data removed]",
      "text/plain": [
       "<Figure size 600x200 with 1 Axes>"
      ]
     },
     "metadata": {},
     "output_type": "display_data"
    }
   ],
   "source": [
    "# 경도 분포 시각화 분석\n",
    "col='insp_pps_hs_val'\n",
    "fin_lab_df[col]=fin_lab_df[col].astype('float64')\n",
    "# print(fin_lab_df[col].dtype)\n",
    "sns.displot(fin_lab_df[col], height=2, aspect=3)\n",
    "# fin_lab_df[col].describe()"
   ]
  },
  {
   "cell_type": "markdown",
   "id": "016d32d3",
   "metadata": {},
   "source": [
    "#### insp_pps_sg_val 비중 < 10, float64"
   ]
  },
  {
   "cell_type": "code",
   "execution_count": 15,
   "id": "97362b77",
   "metadata": {},
   "outputs": [
    {
     "data": {
      "text/plain": [
       "<seaborn.axisgrid.FacetGrid at 0x2d886c32190>"
      ]
     },
     "execution_count": 15,
     "metadata": {},
     "output_type": "execute_result"
    },
    {
     "data": {
      "image/png": "[encoded data removed]",
      "text/plain": [
       "<Figure size 600x200 with 1 Axes>"
      ]
     },
     "metadata": {},
     "output_type": "display_data"
    }
   ],
   "source": [
    "# 비중 분포 시각화 분석\n",
    "col='insp_pps_sg_val'\n",
    "fin_lab_df[col]=fin_lab_df[col].astype('float64')\n",
    "# print(fin_lab_df[col].dtype)\n",
    "sns.displot(fin_lab_df[fin_lab_df[col]<10][col], height=2, aspect=3)\n",
    "# fin_lab_df[col].describe()"
   ]
  },
  {
   "cell_type": "markdown",
   "id": "b504d411",
   "metadata": {},
   "source": [
    "#### insp_pps_ts_val 인장 분포 시각화 분석, float64"
   ]
  },
  {
   "cell_type": "code",
   "execution_count": 16,
   "id": "dad4641c",
   "metadata": {},
   "outputs": [
    {
     "data": {
      "text/plain": [
       "<seaborn.axisgrid.FacetGrid at 0x2d887e0ea60>"
      ]
     },
     "execution_count": 16,
     "metadata": {},
     "output_type": "execute_result"
    },
    {
     "data": {
      "image/png": "[encoded data removed]",
      "text/plain": [
       "<Figure size 600x200 with 1 Axes>"
      ]
     },
     "metadata": {},
     "output_type": "display_data"
    }
   ],
   "source": [
    "# 인장 분포 시각화 분석\n",
    "col='insp_pps_ts_val'\n",
    "fin_lab_df[col]=fin_lab_df[col].astype('float64')\n",
    "# print(fin_lab_df[col].dtype)\n",
    "sns.displot(fin_lab_df[col], height=2, aspect=3)\n",
    "# fin_lab_df[col].describe()"
   ]
  },
  {
   "cell_type": "markdown",
   "id": "111f3d6c",
   "metadata": {},
   "source": [
    "#### insp_rheo_ts2_val 레오 시각 데이터 분석, float64"
   ]
  },
  {
   "cell_type": "code",
   "execution_count": 17,
   "id": "fe8bd511",
   "metadata": {},
   "outputs": [
    {
     "data": {
      "image/png": "[encoded data removed]",
      "text/plain": [
       "<Figure size 600x200 with 1 Axes>"
      ]
     },
     "metadata": {},
     "output_type": "display_data"
    },
    {
     "data": {
      "image/png": "[encoded data removed]",
      "text/plain": [
       "<Figure size 600x200 with 1 Axes>"
      ]
     },
     "metadata": {},
     "output_type": "display_data"
    },
    {
     "data": {
      "image/png": "[encoded data removed]",
      "text/plain": [
       "<Figure size 600x200 with 1 Axes>"
      ]
     },
     "metadata": {},
     "output_type": "display_data"
    },
    {
     "data": {
      "image/png": "[encoded data removed]",
      "text/plain": [
       "<Figure size 600x200 with 1 Axes>"
      ]
     },
     "metadata": {},
     "output_type": "display_data"
    },
    {
     "data": {
      "image/png": "[encoded data removed]",
      "text/plain": [
       "<Figure size 600x200 with 1 Axes>"
      ]
     },
     "metadata": {},
     "output_type": "display_data"
    }
   ],
   "source": [
    "# 5가지 레오값 시각 데이터 분석\n",
    "for col in ['insp_rheo_ts2_val', 'insp_rheo_t90_val', 'insp_rheo_min_val', 'insp_rheo_max_val', 'insp_mny_min_val']:\n",
    "    # display(fin_lab_df[col].value_counts())\n",
    "\n",
    "    fin_lab_df[col]=fin_lab_df[col].astype('float64')\n",
    "    # display(fin_lab_df[col].dtype)\n",
    "    sns.displot(fin_lab_df[col], height=2, aspect=3)\n",
    "    # display(fin_lab_df[col].describe())"
   ]
  },
  {
   "cell_type": "markdown",
   "id": "4c4c6a8f",
   "metadata": {},
   "source": [
    "## 3. 최종 LAB 데이터 세트 저장\n",
    "- 물성값 : 기본물성(4개), 가류/점도(3개)"
   ]
  },
  {
   "cell_type": "code",
   "execution_count": 18,
   "id": "795ed64c",
   "metadata": {},
   "outputs": [],
   "source": [
    "# 임시 데이터 저장\n",
    "fin_lab_df.to_csv('./tmp_dataset/total_lab_data.csv', index=False)"
   ]
  },
  {
   "cell_type": "markdown",
   "id": "120f73e0",
   "metadata": {},
   "source": [
    "### 원재료별 최종 LAB 데이터 세트 생성 및 저장"
   ]
  },
  {
   "cell_type": "code",
   "execution_count": 19,
   "id": "d535aaf7",
   "metadata": {},
   "outputs": [],
   "source": [
    "x_cols=['lab_pk','mix_ds_cd','lar_cd','중분류','소분류','srt_sqn','phr']\n",
    "# 기본물성\n",
    "pps_y_cols=['insp_pps_hs_val','insp_pps_sg_val','insp_pps_ts_val','insp_pps_eb_val']\n",
    "# 가류도\n",
    "curing_y_cols = ['insp_rheo_ts2_val', 'insp_rheo_t90_val', 'insp_rheo_min_val', 'insp_rheo_max_val', 'insp_mny_min_val']      \n",
    "\n",
    "yCols = pps_y_cols + curing_y_cols\n",
    "for yCol in yCols:\n",
    "    if yCol in pps_y_cols:\n",
    "        insp_condi_cols = ['insp_pps_temp1_val','insp_pps_mnt1_val']\n",
    "    else:\n",
    "        if 'mny' in yCol:\n",
    "            insp_condi_cols= ['insp_mny_temp_val','insp_mny_148_val']\n",
    "        else:\n",
    "            insp_condi_cols= ['insp_rheo_temp_val','insp_rheo_mnt_val']\n",
    "    \n",
    "    tmp_fin_df=fin_lab_df[x_cols+insp_condi_cols+[yCol]].dropna()\n",
    "    tmp_fin_df.columns = ['lab_pk','mix_ds_cd','JRCODE','중분류','소분류','srt_sqn','PHR','INSP_TEMP','INSP_TIME', yCol]\n",
    "    if len(tmp_fin_df) == 0:\n",
    "        continue\n",
    "    \n",
    "    group_df = fin_lab_df.groupby(['lab_pk','mix_ds_cd'])['srt_sqn'].max().reset_index()\n",
    "    lower_limit = group_df['srt_sqn'].mean() - group_df['srt_sqn'].std()*2\n",
    "    upper_limit = group_df['srt_sqn'].mean() + group_df['srt_sqn'].std()*2\n",
    "    tmp_df = group_df[(group_df['srt_sqn'].between(lower_limit, upper_limit))]\n",
    "\n",
    "    fin_df = pd.merge(tmp_fin_df, tmp_df[['lab_pk','mix_ds_cd']], how='inner', on=['lab_pk','mix_ds_cd'])\n",
    "    fin_df.to_csv(f'./tmp_dataset/lab_regr_data_{yCol}_fin_noZero.csv', index=False)"
   ]
  },
  {
   "cell_type": "markdown",
   "id": "154b5471",
   "metadata": {},
   "source": [
    "### 고무배합별 최종 LAB 데이터 세트 생성 및 저장"
   ]
  },
  {
   "cell_type": "code",
   "execution_count": 20,
   "id": "98a9c4a6",
   "metadata": {},
   "outputs": [
    {
     "name": "stdout",
     "output_type": "stream",
     "text": [
      "insp_pps_hs_val\n",
      "insp_pps_sg_val\n",
      "insp_pps_ts_val\n",
      "insp_pps_eb_val\n",
      "insp_rheo_min_val\n",
      "insp_rheo_max_val\n",
      "insp_mny_min_val\n"
     ]
    },
    {
     "data": {
      "text/html": [
       "<div>\n",
       "<style scoped>\n",
       "    .dataframe tbody tr th:only-of-type {\n",
       "        vertical-align: middle;\n",
       "    }\n",
       "\n",
       "    .dataframe tbody tr th {\n",
       "        vertical-align: top;\n",
       "    }\n",
       "\n",
       "    .dataframe thead th {\n",
       "        text-align: right;\n",
       "    }\n",
       "</style>\n",
       "<table border=\"1\" class=\"dataframe\">\n",
       "  <thead>\n",
       "    <tr style=\"text-align: right;\">\n",
       "      <th></th>\n",
       "      <th>lab_pk</th>\n",
       "      <th>mix_ds_cd</th>\n",
       "      <th>INSP_TEMP</th>\n",
       "      <th>INSP_TIME</th>\n",
       "      <th>insp_mny_min_val</th>\n",
       "      <th>1_JRCODE</th>\n",
       "      <th>2_JRCODE</th>\n",
       "      <th>3_JRCODE</th>\n",
       "      <th>4_JRCODE</th>\n",
       "      <th>5_JRCODE</th>\n",
       "      <th>...</th>\n",
       "      <th>15_PHR</th>\n",
       "      <th>16_PHR</th>\n",
       "      <th>17_PHR</th>\n",
       "      <th>18_PHR</th>\n",
       "      <th>12_JRCODE</th>\n",
       "      <th>12_PHR</th>\n",
       "      <th>19_JRCODE</th>\n",
       "      <th>19_PHR</th>\n",
       "      <th>20_JRCODE</th>\n",
       "      <th>20_PHR</th>\n",
       "    </tr>\n",
       "  </thead>\n",
       "  <tbody>\n",
       "    <tr>\n",
       "      <th>0</th>\n",
       "      <td>105FQA001_T001</td>\n",
       "      <td>C1</td>\n",
       "      <td>125.0</td>\n",
       "      <td>5.0</td>\n",
       "      <td>9.1</td>\n",
       "      <td>EE017A</td>\n",
       "      <td>NN774A</td>\n",
       "      <td>FF001D</td>\n",
       "      <td>FF009A</td>\n",
       "      <td>OP004A</td>\n",
       "      <td>...</td>\n",
       "      <td>NaN</td>\n",
       "      <td>NaN</td>\n",
       "      <td>NaN</td>\n",
       "      <td>NaN</td>\n",
       "      <td>NaN</td>\n",
       "      <td>NaN</td>\n",
       "      <td>NaN</td>\n",
       "      <td>NaN</td>\n",
       "      <td>NaN</td>\n",
       "      <td>NaN</td>\n",
       "    </tr>\n",
       "    <tr>\n",
       "      <th>1</th>\n",
       "      <td>105FQA001_T001</td>\n",
       "      <td>F1</td>\n",
       "      <td>125.0</td>\n",
       "      <td>5.0</td>\n",
       "      <td>9.1</td>\n",
       "      <td>EE017A</td>\n",
       "      <td>NN774A</td>\n",
       "      <td>FF001D</td>\n",
       "      <td>FF009A</td>\n",
       "      <td>OP004A</td>\n",
       "      <td>...</td>\n",
       "      <td>NaN</td>\n",
       "      <td>NaN</td>\n",
       "      <td>NaN</td>\n",
       "      <td>NaN</td>\n",
       "      <td>NaN</td>\n",
       "      <td>NaN</td>\n",
       "      <td>NaN</td>\n",
       "      <td>NaN</td>\n",
       "      <td>NaN</td>\n",
       "      <td>NaN</td>\n",
       "    </tr>\n",
       "    <tr>\n",
       "      <th>2</th>\n",
       "      <td>1302PA001_T001</td>\n",
       "      <td>C1</td>\n",
       "      <td>125.0</td>\n",
       "      <td>5.0</td>\n",
       "      <td>15.1</td>\n",
       "      <td>EE015C</td>\n",
       "      <td>EE011A</td>\n",
       "      <td>EE015B</td>\n",
       "      <td>CB003A</td>\n",
       "      <td>CB001C</td>\n",
       "      <td>...</td>\n",
       "      <td>NaN</td>\n",
       "      <td>NaN</td>\n",
       "      <td>NaN</td>\n",
       "      <td>NaN</td>\n",
       "      <td>NaN</td>\n",
       "      <td>NaN</td>\n",
       "      <td>NaN</td>\n",
       "      <td>NaN</td>\n",
       "      <td>NaN</td>\n",
       "      <td>NaN</td>\n",
       "    </tr>\n",
       "    <tr>\n",
       "      <th>3</th>\n",
       "      <td>1302PA001_T001</td>\n",
       "      <td>F1</td>\n",
       "      <td>125.0</td>\n",
       "      <td>5.0</td>\n",
       "      <td>15.1</td>\n",
       "      <td>EE015C</td>\n",
       "      <td>EE011A</td>\n",
       "      <td>EE015B</td>\n",
       "      <td>CB003A</td>\n",
       "      <td>CB001C</td>\n",
       "      <td>...</td>\n",
       "      <td>0.13489</td>\n",
       "      <td>0.161063</td>\n",
       "      <td>0.483189</td>\n",
       "      <td>0.100664</td>\n",
       "      <td>NaN</td>\n",
       "      <td>NaN</td>\n",
       "      <td>NaN</td>\n",
       "      <td>NaN</td>\n",
       "      <td>NaN</td>\n",
       "      <td>NaN</td>\n",
       "    </tr>\n",
       "    <tr>\n",
       "      <th>4</th>\n",
       "      <td>1302PA001_T002</td>\n",
       "      <td>C1</td>\n",
       "      <td>125.0</td>\n",
       "      <td>5.0</td>\n",
       "      <td>11.8</td>\n",
       "      <td>EE015C</td>\n",
       "      <td>EE011A</td>\n",
       "      <td>CB003A</td>\n",
       "      <td>CB001C</td>\n",
       "      <td>CB011B</td>\n",
       "      <td>...</td>\n",
       "      <td>NaN</td>\n",
       "      <td>NaN</td>\n",
       "      <td>NaN</td>\n",
       "      <td>NaN</td>\n",
       "      <td>NaN</td>\n",
       "      <td>NaN</td>\n",
       "      <td>NaN</td>\n",
       "      <td>NaN</td>\n",
       "      <td>NaN</td>\n",
       "      <td>NaN</td>\n",
       "    </tr>\n",
       "  </tbody>\n",
       "</table>\n",
       "<p>5 rows × 45 columns</p>\n",
       "</div>"
      ],
      "text/plain": [
       "           lab_pk mix_ds_cd  INSP_TEMP  INSP_TIME  insp_mny_min_val 1_JRCODE  \\\n",
       "0  105FQA001_T001        C1      125.0        5.0               9.1   EE017A   \n",
       "1  105FQA001_T001        F1      125.0        5.0               9.1   EE017A   \n",
       "2  1302PA001_T001        C1      125.0        5.0              15.1   EE015C   \n",
       "3  1302PA001_T001        F1      125.0        5.0              15.1   EE015C   \n",
       "4  1302PA001_T002        C1      125.0        5.0              11.8   EE015C   \n",
       "\n",
       "  2_JRCODE 3_JRCODE 4_JRCODE 5_JRCODE  ...   15_PHR    16_PHR    17_PHR  \\\n",
       "0   NN774A   FF001D   FF009A   OP004A  ...      NaN       NaN       NaN   \n",
       "1   NN774A   FF001D   FF009A   OP004A  ...      NaN       NaN       NaN   \n",
       "2   EE011A   EE015B   CB003A   CB001C  ...      NaN       NaN       NaN   \n",
       "3   EE011A   EE015B   CB003A   CB001C  ...  0.13489  0.161063  0.483189   \n",
       "4   EE011A   CB003A   CB001C   CB011B  ...      NaN       NaN       NaN   \n",
       "\n",
       "     18_PHR  12_JRCODE  12_PHR  19_JRCODE  19_PHR  20_JRCODE  20_PHR  \n",
       "0       NaN        NaN     NaN        NaN     NaN        NaN     NaN  \n",
       "1       NaN        NaN     NaN        NaN     NaN        NaN     NaN  \n",
       "2       NaN        NaN     NaN        NaN     NaN        NaN     NaN  \n",
       "3  0.100664        NaN     NaN        NaN     NaN        NaN     NaN  \n",
       "4       NaN        NaN     NaN        NaN     NaN        NaN     NaN  \n",
       "\n",
       "[5 rows x 45 columns]"
      ]
     },
     "execution_count": 20,
     "metadata": {},
     "output_type": "execute_result"
    }
   ],
   "source": [
    "yCols = ['insp_pps_hs_val','insp_pps_sg_val','insp_pps_ts_val','insp_pps_eb_val','insp_rheo_min_val','insp_rheo_max_val','insp_mny_min_val']\n",
    "\n",
    "for yCol in yCols:\n",
    "    print(yCol)\n",
    "\n",
    "    # 데이터 로드\n",
    "    df = pd.read_csv(f'./tmp_dataset/lab_regr_data_{yCol}_fin_noZero.csv')\n",
    "    # df['JRCODE'] = df['lar_cd']\n",
    "    # df['PHR'] = df['phr']\n",
    "\n",
    "    # 반복 대상 컬럼명\n",
    "    columns_to_reshape = ['JRCODE','PHR']\n",
    "\n",
    "    reshaped_rows = []\n",
    "\n",
    "    # 단일값이어야 하는 것들은 그대로 그룹화\n",
    "    grouped = df.groupby(['lab_pk', 'mix_ds_cd', 'INSP_TEMP', 'INSP_TIME', yCol])\n",
    "\n",
    "    for (lab_pk, mix_ds_cd, INSP_TEMP, INSP_TIME, yCol_val), group in grouped:\n",
    "        reshaped_row = {'lab_pk': lab_pk, 'mix_ds_cd': mix_ds_cd, 'INSP_TEMP': INSP_TEMP,\n",
    "                        'INSP_TIME': INSP_TIME, yCol: yCol_val}  # 새로운 행 초기화\n",
    "        \n",
    "        # 'srt_sqn'의 값에 따라 컬럼 이름을 변경하고 값을 저장합니다.\n",
    "        for col in columns_to_reshape:\n",
    "            for _, row in group.iterrows():\n",
    "                srt_sqn_val = int(row['srt_sqn'])\n",
    "                new_col_name = f\"{srt_sqn_val}_{col}\"  # 새로운 컬럼 이름 생성\n",
    "                reshaped_row[new_col_name] = row[col]  # 값 저장\n",
    "\n",
    "        reshaped_rows.append(reshaped_row)\n",
    "\n",
    "    # 결과를 데이터프레임으로 변환\n",
    "    reshaped_df_efficient = pd.DataFrame(reshaped_rows)\n",
    "    # reshaped_df_efficient.fillna(0, inplace=True)\n",
    "    reshaped_df_efficient = reshaped_df_efficient[reshaped_df_efficient[yCol]!=0]\n",
    "\n",
    "    reshaped_df_efficient.to_csv(f'./tmp_dataset/lab_regr_data_{yCol}_fin_noZero.csv', index = False, encoding=\"utf-8-sig\")\n",
    "\n",
    "# 결과 확인\n",
    "reshaped_df_efficient.head()"
   ]
  }
 ],
 "metadata": {
  "kernelspec": {
   "display_name": "Python 3",
   "language": "python",
   "name": "python3"
  },
  "language_info": {
   "codemirror_mode": {
    "name": "ipython",
    "version": 3
   },
   "file_extension": ".py",
   "mimetype": "text/x-python",
   "name": "python",
   "nbconvert_exporter": "python",
   "pygments_lexer": "ipython3",
   "version": "3.9.18"
  }
 },
 "nbformat": 4,
 "nbformat_minor": 5
}
