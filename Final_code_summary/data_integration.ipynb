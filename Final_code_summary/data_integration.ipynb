{
 "cells": [
  {
   "cell_type": "code",
   "execution_count": 8,
   "id": "eb01afc9",
   "metadata": {},
   "outputs": [],
   "source": [
    "# 파일이름 : data_integration.ipynb\n",
    "# 코드설명 : 예측 대상별 데이터 통합 및 모델 학습 데이터 세트 생성\n",
    "# 입/출력 : LAB, MES CMB, MES FMB 데이터 세트 / 물성별 데이터 세트 (17개)\n",
    "# 유의 사항 : 무한대 값 제외\n",
    "# 최종수정 : 2023년 11월 20일\n",
    "# 제 작 자 : 홍민성 (mshong@micube.co.kr), 맹영준 (myj6223@micube.co.kr)\n",
    "# Copyright : MICUBE Solution, Inc."
   ]
  },
  {
   "cell_type": "code",
   "execution_count": 1,
   "id": "3a378609",
   "metadata": {
    "tags": []
   },
   "outputs": [],
   "source": [
    "import pandas as pd\n",
    "import numpy as np\n",
    "\n",
    "pd.set_option(\"display.max_columns\", 500)\n",
    "pd.set_option('display.max_rows', 50)\n",
    "\n",
    "from tqdm import tqdm\n",
    "\n",
    "import matplotlib.pyplot as plt\n",
    "import seaborn as sns\n",
    "sns.set(rc={'figure.figsize':(15, 5)})\n",
    "%matplotlib inline\n",
    "\n",
    "import warnings\n",
    "warnings.filterwarnings(action='ignore')"
   ]
  },
  {
   "cell_type": "markdown",
   "id": "99806424",
   "metadata": {},
   "source": [
    "## 1. 불량여부의 데이터 불균형 체크"
   ]
  },
  {
   "cell_type": "code",
   "execution_count": 7,
   "id": "d7a67010",
   "metadata": {},
   "outputs": [
    {
     "data": {
      "text/html": [
       "<div>\n",
       "<style scoped>\n",
       "    .dataframe tbody tr th:only-of-type {\n",
       "        vertical-align: middle;\n",
       "    }\n",
       "\n",
       "    .dataframe tbody tr th {\n",
       "        vertical-align: top;\n",
       "    }\n",
       "\n",
       "    .dataframe thead th {\n",
       "        text-align: right;\n",
       "    }\n",
       "</style>\n",
       "<table border=\"1\" class=\"dataframe\">\n",
       "  <thead>\n",
       "    <tr style=\"text-align: right;\">\n",
       "      <th></th>\n",
       "      <th>TARGET</th>\n",
       "      <th>TRUE#</th>\n",
       "      <th>FALSE#</th>\n",
       "      <th>TOTAL#</th>\n",
       "    </tr>\n",
       "  </thead>\n",
       "  <tbody>\n",
       "    <tr>\n",
       "      <th>0</th>\n",
       "      <td>HS_RESULT</td>\n",
       "      <td>29725</td>\n",
       "      <td>971</td>\n",
       "      <td>30696</td>\n",
       "    </tr>\n",
       "    <tr>\n",
       "      <th>1</th>\n",
       "      <td>SG_RESULT</td>\n",
       "      <td>68458</td>\n",
       "      <td>1775</td>\n",
       "      <td>70233</td>\n",
       "    </tr>\n",
       "    <tr>\n",
       "      <th>2</th>\n",
       "      <td>TS_RESULT</td>\n",
       "      <td>26568</td>\n",
       "      <td>1439</td>\n",
       "      <td>28007</td>\n",
       "    </tr>\n",
       "    <tr>\n",
       "      <th>3</th>\n",
       "      <td>EB_RESULT</td>\n",
       "      <td>26568</td>\n",
       "      <td>1439</td>\n",
       "      <td>28007</td>\n",
       "    </tr>\n",
       "    <tr>\n",
       "      <th>4</th>\n",
       "      <td>MNY_RESULT</td>\n",
       "      <td>49339</td>\n",
       "      <td>10930</td>\n",
       "      <td>60269</td>\n",
       "    </tr>\n",
       "    <tr>\n",
       "      <th>5</th>\n",
       "      <td>REHO_RESULT</td>\n",
       "      <td>149780</td>\n",
       "      <td>45706</td>\n",
       "      <td>195486</td>\n",
       "    </tr>\n",
       "    <tr>\n",
       "      <th>6</th>\n",
       "      <td>SCR_RESULT</td>\n",
       "      <td>44257</td>\n",
       "      <td>8912</td>\n",
       "      <td>53169</td>\n",
       "    </tr>\n",
       "  </tbody>\n",
       "</table>\n",
       "</div>"
      ],
      "text/plain": [
       "        TARGET   TRUE#  FALSE#  TOTAL#\n",
       "0    HS_RESULT   29725     971   30696\n",
       "1    SG_RESULT   68458    1775   70233\n",
       "2    TS_RESULT   26568    1439   28007\n",
       "3    EB_RESULT   26568    1439   28007\n",
       "4   MNY_RESULT   49339   10930   60269\n",
       "5  REHO_RESULT  149780   45706  195486\n",
       "6   SCR_RESULT   44257    8912   53169"
      ]
     },
     "execution_count": 7,
     "metadata": {},
     "output_type": "execute_result"
    }
   ],
   "source": [
    "mes_clas_yCols = ['HS_RESULT','SG_RESULT','TS_RESULT','EB_RESULT','MNY_RESULT', 'REHO_RESULT', 'SCR_RESULT']\n",
    "\n",
    "show_df = pd.DataFrame(columns=['TARGET','TRUE#','FALSE#','TOTAL#'])\n",
    "\n",
    "for mes_yCol in mes_clas_yCols:\n",
    "\n",
    "    mes_cmb_df = pd.read_csv(f'./tmp_dataset/mes_clas_cmb_data_{mes_yCol}_fin.csv')\n",
    "    mes_fmb_df = pd.read_csv(f'./tmp_dataset/mes_clas_fmb_data_{mes_yCol}_fin.csv')\n",
    "\n",
    "    total_cnt = len(mes_cmb_df)+len(mes_fmb_df)\n",
    "    true_cnt = len(mes_cmb_df[mes_cmb_df[mes_yCol]==1])+len(mes_fmb_df[mes_fmb_df[mes_yCol]==1])\n",
    "    false_cnt = total_cnt-true_cnt\n",
    "\n",
    "    show_df.loc[len(show_df)] = [mes_yCol,true_cnt,false_cnt,total_cnt]\n",
    "\n",
    "show_df"
   ]
  },
  {
   "cell_type": "markdown",
   "id": "39476a3a",
   "metadata": {},
   "source": [
    "## 2. 기본물성 데이터 통합"
   ]
  },
  {
   "cell_type": "code",
   "execution_count": 2,
   "id": "4b8e45f5",
   "metadata": {
    "tags": []
   },
   "outputs": [],
   "source": [
    "in_file_path = './tmp_dataset/'\n",
    "out_file_path = './final_dataset/'\n",
    "\n",
    "lab_yCols = ['insp_pps_hs_val','insp_pps_sg_val','insp_pps_ts_val','insp_pps_eb_val']\n",
    "mes_regr_yCols = ['HS','SG','TS','EB']\n",
    "mes_clas_yCols = ['HS_RESULT','SG_RESULT','TS_RESULT','EB_RESULT']"
   ]
  },
  {
   "cell_type": "markdown",
   "id": "dd3f21f5",
   "metadata": {},
   "source": [
    "### 1) 최종 데이터셋의 형태(변수명) 정의"
   ]
  },
  {
   "cell_type": "code",
   "execution_count": 3,
   "id": "f792d340",
   "metadata": {},
   "outputs": [],
   "source": [
    "fin_cols = ['ID', 'TYPE', 'INSP_TIME', 'INSP_TEMP', 'RPM1', 'RPM2', 'RPM3', 'RPM4', 'RPM5', 'RPM6', 'RPM7', 'RPM8', 'RPM9', 'RPM10', 'RPM11', 'RPM12', 'RPM13', 'RPM14', 'RPM15', 'RPM16', 'RPM17', 'RPM18', 'RPM19', 'RPM20', 'RPM21', 'RPM22', 'RPM23', 'TEMP1', 'TEMP2', 'TEMP3', 'TEMP4', 'TEMP5', 'TEMP6', 'TEMP7', 'TEMP8', 'TEMP9', 'TEMP10', 'TEMP11', 'TEMP12', 'TEMP13', 'TEMP14', 'TEMP15', 'TEMP16', 'TEMP17', 'TEMP18', 'TEMP19', 'TEMP20', 'TEMP21', 'TEMP22', 'TEMP23', 'TIME1', 'TIME2', 'TIME3', 'TIME4', 'TIME5', 'TIME6', 'TIME7', 'TIME8', 'TIME9', 'TIME10', 'TIME11', 'TIME12', 'TIME13', 'TIME14', 'TIME15', 'TIME16', 'TIME17', 'TIME18', 'TIME19', 'TIME20', 'TIME21', 'TIME22', 'TIME23', 'JUK1', 'JUK2', 'JUK3', 'JUK4', 'JUK5', 'JUK6', 'JUK7', 'JUK8', 'JUK9', 'JUK10', 'JUK11', 'JUK12', 'JUK13', 'JUK14', 'JUK15', 'JUK16', 'JUK17', 'JUK18', 'JUK19', 'JUK20', 'JUK21', 'JUK22', 'JUK23', 'JRCODE1', 'JRCODE2', 'JRCODE3', 'JRCODE4', 'JRCODE5', 'JRCODE6', 'JRCODE7', 'JRCODE8', 'JRCODE9', 'JRCODE10', 'JRCODE11', 'JRCODE12', 'JRCODE13', 'JRCODE14', 'JRCODE15', 'JRCODE16', 'JRCODE17', 'JRCODE18', 'JRCODE19', 'JRCODE20', 'JRCODE21', 'JRCODE22', 'JRCODE23', 'JRCODE24', 'JRCODE25', 'PHR1', 'PHR2', 'PHR3', 'PHR4', 'PHR5', 'PHR6', 'PHR7', 'PHR8', 'PHR9', 'PHR10', 'PHR11', 'PHR12', 'PHR13', 'PHR14', 'PHR15', 'PHR16', 'PHR17', 'PHR18', 'PHR19', 'PHR20', 'PHR21', 'PHR22', 'PHR23', 'PHR24', 'PHR25', 'PUTGB1', 'PUTGB2', 'PUTGB3', 'PUTGB4', 'PUTGB5', 'PUTGB6', 'PUTGB7', 'PUTGB8', 'PUTGB9', 'PUTGB10', 'PUTGB11', 'PUTGB12', 'PUTGB13', 'PUTGB14', 'PUTGB15', 'PUTGB16', 'PUTGB17', 'PUTGB18', 'PUTGB19', 'PUTGB20', 'PUTGB21', 'PUTGB22', 'PUTGB23', 'PUTGB24', 'PUTGB25', 'REAL_VAL']"
   ]
  },
  {
   "cell_type": "markdown",
   "id": "dca572f7",
   "metadata": {},
   "source": [
    "### 2) regression data set 재구축"
   ]
  },
  {
   "cell_type": "code",
   "execution_count": 12,
   "id": "c0ddf1d1",
   "metadata": {},
   "outputs": [
    {
     "data": {
      "text/plain": [
       "'LAB: (7702, 172), CMB: (10144, 172), FMB: (21110, 172), TOTAL: (38956, 172)'"
      ]
     },
     "metadata": {},
     "output_type": "display_data"
    },
    {
     "data": {
      "text/plain": [
       "'LAB: (7671, 172), CMB: (41072, 172), FMB: (18500, 172), TOTAL: (67243, 172)'"
      ]
     },
     "metadata": {},
     "output_type": "display_data"
    },
    {
     "data": {
      "text/plain": [
       "'LAB: (7606, 172), CMB: (9851, 172), FMB: (19317, 172), TOTAL: (36774, 172)'"
      ]
     },
     "metadata": {},
     "output_type": "display_data"
    },
    {
     "data": {
      "text/plain": [
       "'LAB: (7623, 172), CMB: (9852, 172), FMB: (19318, 172), TOTAL: (36793, 172)'"
      ]
     },
     "metadata": {},
     "output_type": "display_data"
    },
    {
     "data": {
      "text/html": [
       "<div>\n",
       "<style scoped>\n",
       "    .dataframe tbody tr th:only-of-type {\n",
       "        vertical-align: middle;\n",
       "    }\n",
       "\n",
       "    .dataframe tbody tr th {\n",
       "        vertical-align: top;\n",
       "    }\n",
       "\n",
       "    .dataframe thead th {\n",
       "        text-align: right;\n",
       "    }\n",
       "</style>\n",
       "<table border=\"1\" class=\"dataframe\">\n",
       "  <thead>\n",
       "    <tr style=\"text-align: right;\">\n",
       "      <th></th>\n",
       "      <th>TARGET</th>\n",
       "      <th>LAB#</th>\n",
       "      <th>CMB#</th>\n",
       "      <th>FMB#</th>\n",
       "      <th>TOTAL#</th>\n",
       "    </tr>\n",
       "  </thead>\n",
       "  <tbody>\n",
       "    <tr>\n",
       "      <th>0</th>\n",
       "      <td>HS</td>\n",
       "      <td>7702</td>\n",
       "      <td>10144</td>\n",
       "      <td>21110</td>\n",
       "      <td>38956</td>\n",
       "    </tr>\n",
       "    <tr>\n",
       "      <th>1</th>\n",
       "      <td>SG</td>\n",
       "      <td>7671</td>\n",
       "      <td>41072</td>\n",
       "      <td>18500</td>\n",
       "      <td>67243</td>\n",
       "    </tr>\n",
       "    <tr>\n",
       "      <th>2</th>\n",
       "      <td>TS</td>\n",
       "      <td>7606</td>\n",
       "      <td>9851</td>\n",
       "      <td>19317</td>\n",
       "      <td>36774</td>\n",
       "    </tr>\n",
       "    <tr>\n",
       "      <th>3</th>\n",
       "      <td>EB</td>\n",
       "      <td>7623</td>\n",
       "      <td>9852</td>\n",
       "      <td>19318</td>\n",
       "      <td>36793</td>\n",
       "    </tr>\n",
       "  </tbody>\n",
       "</table>\n",
       "</div>"
      ],
      "text/plain": [
       "  TARGET  LAB#   CMB#   FMB#  TOTAL#\n",
       "0     HS  7702  10144  21110   38956\n",
       "1     SG  7671  41072  18500   67243\n",
       "2     TS  7606   9851  19317   36774\n",
       "3     EB  7623   9852  19318   36793"
      ]
     },
     "execution_count": 12,
     "metadata": {},
     "output_type": "execute_result"
    }
   ],
   "source": [
    "show_df = pd.DataFrame(columns=['TARGET','LAB#','CMB#','FMB#','TOTAL#'])\n",
    "\n",
    "for i in np.arange(0,len(mes_regr_yCols)):\n",
    "    lab_yCol = lab_yCols[i]\n",
    "    mes_yCol = mes_regr_yCols[i]\n",
    "\n",
    "    # 데이터별 컬럼명 단일화를 위한 dictionary 정의\n",
    "    lab_rename_dic = {'lab_pk': 'ID', f'{lab_yCol}': 'REAL_VAL',\n",
    "                           '1_JRCODE': 'JRCODE1', '2_JRCODE': 'JRCODE2', '3_JRCODE': 'JRCODE3', '4_JRCODE': 'JRCODE4', '5_JRCODE': 'JRCODE5', '6_JRCODE': 'JRCODE6', '7_JRCODE': 'JRCODE7', '8_JRCODE': 'JRCODE8', '9_JRCODE': 'JRCODE9', '10_JRCODE': 'JRCODE10', '11_JRCODE': 'JRCODE11', '12_JRCODE': 'JRCODE12', '13_JRCODE': 'JRCODE13', '14_JRCODE': 'JRCODE14', '15_JRCODE': 'JRCODE15', '16_JRCODE': 'JRCODE16', '17_JRCODE': 'JRCODE17', '18_JRCODE': 'JRCODE18', '19_JRCODE': 'JRCODE19', '20_JRCODE': 'JRCODE20',\n",
    "                            '1_PHR': 'PHR1', '2_PHR': 'PHR2', '3_PHR': 'PHR3', '4_PHR': 'PHR4', '5_PHR': 'PHR5', '6_PHR': 'PHR6', '7_PHR': 'PHR7', '8_PHR': 'PHR8', '9_PHR': 'PHR9', '10_PHR': 'PHR10', '11_PHR': 'PHR11', '12_PHR': 'PHR12', '13_PHR': 'PHR13', '14_PHR': 'PHR14', '15_PHR': 'PHR15', '16_PHR': 'PHR16', '17_PHR': 'PHR17', '18_PHR': 'PHR18', '19_PHR': 'PHR19', '20_PHR': 'PHR20',\n",
    "                           }\n",
    "    mes_cmb_rename_dic = {'LOTNO': 'ID', f'{mes_yCol}': 'REAL_VAL', f'{mes_yCol}_TIME': 'INSP_TIME', f'{mes_yCol}_TEMP': 'INSP_TEMP', \n",
    "                            '1_JRCODE': 'JRCODE1', '2_JRCODE': 'JRCODE2', '3_JRCODE': 'JRCODE3', '4_JRCODE': 'JRCODE4', '5_JRCODE': 'JRCODE5', '6_JRCODE': 'JRCODE6', '7_JRCODE': 'JRCODE7', '8_JRCODE': 'JRCODE8', '9_JRCODE': 'JRCODE9', '10_JRCODE': 'JRCODE10', '11_JRCODE': 'JRCODE11', '12_JRCODE': 'JRCODE12', '13_JRCODE': 'JRCODE13', '14_JRCODE': 'JRCODE14', '15_JRCODE': 'JRCODE15', '16_JRCODE': 'JRCODE16', '17_JRCODE': 'JRCODE17', '18_JRCODE': 'JRCODE18', '19_JRCODE': 'JRCODE19', '20_JRCODE': 'JRCODE20', '21_JRCODE': 'JRCODE21',\n",
    "                            '1_PHR': 'PHR1', '2_PHR': 'PHR2', '3_PHR': 'PHR3', '4_PHR': 'PHR4', '5_PHR': 'PHR5', '6_PHR': 'PHR6', '7_PHR': 'PHR7', '8_PHR': 'PHR8', '9_PHR': 'PHR9', '10_PHR': 'PHR10', '11_PHR': 'PHR11', '12_PHR': 'PHR12', '13_PHR': 'PHR13', '14_PHR': 'PHR14', '15_PHR': 'PHR15', '16_PHR': 'PHR16', '17_PHR': 'PHR17', '18_PHR': 'PHR18', '19_PHR': 'PHR19', '20_PHR': 'PHR20', '21_PHR': 'PHR21',\n",
    "                            '1_PUTGB': 'PUTGB1', '2_PUTGB': 'PUTGB2', '3_PUTGB': 'PUTGB3', '4_PUTGB': 'PUTGB4', '5_PUTGB': 'PUTGB5', '6_PUTGB': 'PUTGB6', '7_PUTGB': 'PUTGB7', '8_PUTGB': 'PUTGB8', '9_PUTGB': 'PUTGB9', '10_PUTGB': 'PUTGB10', '11_PUTGB': 'PUTGB11', '12_PUTGB': 'PUTGB12', '13_PUTGB': 'PUTGB13', '14_PUTGB': 'PUTGB14', '15_PUTGB': 'PUTGB15', '16_PUTGB': 'PUTGB16', '17_PUTGB': 'PUTGB17', '18_PUTGB': 'PUTGB18', '19_PUTGB': 'PUTGB19', '20_PUTGB': 'PUTGB20', '21_PUTGB': 'PUTGB21'\n",
    "                            }\n",
    "    mes_fmb_rename_dic = {'LOTNO': 'ID', f'{mes_yCol}': 'REAL_VAL', f'{mes_yCol}_TEMP': 'INSP_TIME', f'{mes_yCol}_TEMP': 'INSP_TEMP',\n",
    "                            '1_JRCODE': 'JRCODE1', '2_JRCODE': 'JRCODE2', '3_JRCODE': 'JRCODE3', '4_JRCODE': 'JRCODE4', '5_JRCODE': 'JRCODE5', '6_JRCODE': 'JRCODE6', '7_JRCODE': 'JRCODE7', '8_JRCODE': 'JRCODE8', '9_JRCODE': 'JRCODE9', '10_JRCODE': 'JRCODE10', '11_JRCODE': 'JRCODE11', '12_JRCODE': 'JRCODE12', '13_JRCODE': 'JRCODE13', '14_JRCODE': 'JRCODE14', '15_JRCODE': 'JRCODE15', '16_JRCODE': 'JRCODE16', '17_JRCODE': 'JRCODE17', '18_JRCODE': 'JRCODE18', '19_JRCODE': 'JRCODE19', '20_JRCODE': 'JRCODE20', '21_JRCODE': 'JRCODE21', '22_JRCODE': 'JRCODE22', '23_JRCODE': 'JRCODE23', '24_JRCODE': 'JRCODE24', '25_JRCODE': 'JRCODE25',\n",
    "                            '1_PHR': 'PHR1', '2_PHR': 'PHR2', '3_PHR': 'PHR3', '4_PHR': 'PHR4', '5_PHR': 'PHR5', '6_PHR': 'PHR6', '7_PHR': 'PHR7', '8_PHR': 'PHR8', '9_PHR': 'PHR9', '10_PHR': 'PHR10', '11_PHR': 'PHR11', '12_PHR': 'PHR12', '13_PHR': 'PHR13', '14_PHR': 'PHR14', '15_PHR': 'PHR15', '16_PHR': 'PHR16', '17_PHR': 'PHR17', '18_PHR': 'PHR18', '19_PHR': 'PHR19', '20_PHR': 'PHR20', '21_PHR': 'PHR21', '22_PHR': 'PHR22', '23_PHR': 'PHR23', '24_PHR': 'PHR24', '25_PHR': 'PHR25',\n",
    "                            '1_PUTGB': 'PUTGB1', '2_PUTGB': 'PUTGB2', '3_PUTGB': 'PUTGB3', '4_PUTGB': 'PUTGB4', '5_PUTGB': 'PUTGB5', '6_PUTGB': 'PUTGB6', '7_PUTGB': 'PUTGB7', '8_PUTGB': 'PUTGB8', '9_PUTGB': 'PUTGB9', '10_PUTGB': 'PUTGB10', '11_PUTGB': 'PUTGB11', '12_PUTGB': 'PUTGB12', '13_PUTGB': 'PUTGB13', '14_PUTGB': 'PUTGB14', '15_PUTGB': 'PUTGB15', '16_PUTGB': 'PUTGB16', '17_PUTGB': 'PUTGB17', '18_PUTGB': 'PUTGB18', '19_PUTGB': 'PUTGB19', '20_PUTGB': 'PUTGB20', '21_PUTGB': 'PUTGB21', '22_PUTGB': 'PUTGB22', '23_PUTGB': 'PUTGB23', '24_PUTGB': 'PUTGB24', '25_PUTGB': 'PUTGB25',\n",
    "                            }\n",
    "\n",
    "    # 데이터별 파일 로드\n",
    "    lab_regr_df = pd.read_csv(in_file_path+f'lab_regr_data_{lab_yCol}_fin_noZero.csv')\n",
    "    mes_cmb_df = pd.read_csv(in_file_path+f'mes_regr_cmb_data_{mes_yCol}_fin_noZero.csv')\n",
    "    mes_fmb_df = pd.read_csv(in_file_path+f'mes_regr_fmb_data_{mes_yCol}_fin_noZero.csv')\n",
    "\n",
    "    # 데이터별 컬럼명 단일화\n",
    "    lab_regr_df.rename(columns=lab_rename_dic,inplace=True)\n",
    "    mes_cmb_df.rename(columns=mes_cmb_rename_dic,inplace=True)\n",
    "    mes_fmb_df.rename(columns=mes_fmb_rename_dic,inplace=True)\n",
    "\n",
    "    # 데이터 종류 변수 추가\n",
    "    lab_regr_df['TYPE'] = 'LAB'\n",
    "    mes_cmb_df['TYPE'] = 'mCMB'\n",
    "    mes_fmb_df['TYPE'] = 'mFMB'\n",
    "\n",
    "    # 데이터별 누락된 컬럼을 nan값을 채워서 추가\n",
    "    for fCol in fin_cols:\n",
    "        if fCol not in lab_regr_df.columns:\n",
    "            lab_regr_df[fCol] = np.nan\n",
    "        if fCol not in mes_cmb_df.columns:\n",
    "            mes_cmb_df[fCol] = np.nan\n",
    "        if fCol not in mes_fmb_df.columns:\n",
    "            mes_fmb_df[fCol] = np.nan\n",
    "\n",
    "    # 필요 없는 컬럼 제거\n",
    "    mes_fmb_df.drop(columns=['RUBBER'], inplace=True)\n",
    "\n",
    "    # 컬럼 순서 동일화\n",
    "    lab_regr_df = lab_regr_df[fin_cols]\n",
    "    mes_cmb_df = mes_cmb_df[fin_cols]\n",
    "    mes_fmb_df = mes_fmb_df[fin_cols]\n",
    "\n",
    "    # 데이터 통합\n",
    "    combined_df = pd.concat([lab_regr_df, mes_cmb_df, mes_fmb_df])\n",
    "\n",
    "    # 결과 출력\n",
    "    display(f'LAB: {lab_regr_df.shape}, CMB: {mes_cmb_df.shape}, FMB: {mes_fmb_df.shape}, TOTAL: {combined_df.shape}')\n",
    "\n",
    "    # 통합 데이터 저장\n",
    "    combined_df.to_csv(out_file_path+f'combined_data_{mes_yCol}_fin.csv', index=False)\n",
    "    # 무한대 라벨 값 Nan으로 대체\n",
    "    combined_df['REAL_VAL'].replace([np.inf, -np.inf], np.nan, inplace=True)\n",
    "    # Nan 라벨 값 제거\n",
    "    combined_df.dropna(subset=['REAL_VAL'], how=\"all\", inplace=True)\n",
    "\n",
    "    # 통합 결과 저장\n",
    "    show_df.loc[len(show_df)] = [mes_yCol, len(lab_regr_df), len(mes_cmb_df), len(mes_fmb_df), len(combined_df)]\n",
    "    \n",
    "show_df"
   ]
  },
  {
   "cell_type": "markdown",
   "id": "acde4eea",
   "metadata": {},
   "source": [
    "### 3) classification data set 재구축"
   ]
  },
  {
   "cell_type": "code",
   "execution_count": 13,
   "id": "4262804e",
   "metadata": {},
   "outputs": [
    {
     "data": {
      "text/plain": [
       "'CMB: (10001, 172), FMB: (20695, 172), TOTAL: (30696, 172)'"
      ]
     },
     "metadata": {},
     "output_type": "display_data"
    },
    {
     "data": {
      "text/plain": [
       "'CMB: (51708, 172), FMB: (18525, 172), TOTAL: (70233, 172)'"
      ]
     },
     "metadata": {},
     "output_type": "display_data"
    },
    {
     "data": {
      "text/plain": [
       "'CMB: (9538, 172), FMB: (18469, 172), TOTAL: (28007, 172)'"
      ]
     },
     "metadata": {},
     "output_type": "display_data"
    },
    {
     "data": {
      "text/plain": [
       "'CMB: (9538, 172), FMB: (18469, 172), TOTAL: (28007, 172)'"
      ]
     },
     "metadata": {},
     "output_type": "display_data"
    },
    {
     "data": {
      "text/html": [
       "<div>\n",
       "<style scoped>\n",
       "    .dataframe tbody tr th:only-of-type {\n",
       "        vertical-align: middle;\n",
       "    }\n",
       "\n",
       "    .dataframe tbody tr th {\n",
       "        vertical-align: top;\n",
       "    }\n",
       "\n",
       "    .dataframe thead th {\n",
       "        text-align: right;\n",
       "    }\n",
       "</style>\n",
       "<table border=\"1\" class=\"dataframe\">\n",
       "  <thead>\n",
       "    <tr style=\"text-align: right;\">\n",
       "      <th></th>\n",
       "      <th>TARGET</th>\n",
       "      <th>CMB#</th>\n",
       "      <th>FMB#</th>\n",
       "      <th>TOTAL#</th>\n",
       "    </tr>\n",
       "  </thead>\n",
       "  <tbody>\n",
       "    <tr>\n",
       "      <th>0</th>\n",
       "      <td>HS_RESULT</td>\n",
       "      <td>10001</td>\n",
       "      <td>20695</td>\n",
       "      <td>30696</td>\n",
       "    </tr>\n",
       "    <tr>\n",
       "      <th>1</th>\n",
       "      <td>SG_RESULT</td>\n",
       "      <td>51708</td>\n",
       "      <td>18525</td>\n",
       "      <td>70233</td>\n",
       "    </tr>\n",
       "    <tr>\n",
       "      <th>2</th>\n",
       "      <td>TS_RESULT</td>\n",
       "      <td>9538</td>\n",
       "      <td>18469</td>\n",
       "      <td>28007</td>\n",
       "    </tr>\n",
       "    <tr>\n",
       "      <th>3</th>\n",
       "      <td>EB_RESULT</td>\n",
       "      <td>9538</td>\n",
       "      <td>18469</td>\n",
       "      <td>28007</td>\n",
       "    </tr>\n",
       "  </tbody>\n",
       "</table>\n",
       "</div>"
      ],
      "text/plain": [
       "      TARGET   CMB#   FMB#  TOTAL#\n",
       "0  HS_RESULT  10001  20695   30696\n",
       "1  SG_RESULT  51708  18525   70233\n",
       "2  TS_RESULT   9538  18469   28007\n",
       "3  EB_RESULT   9538  18469   28007"
      ]
     },
     "execution_count": 13,
     "metadata": {},
     "output_type": "execute_result"
    }
   ],
   "source": [
    "show_df = pd.DataFrame(columns=['TARGET','CMB#','FMB#','TOTAL#'])\n",
    "\n",
    "for i in np.arange(0,len(mes_clas_yCols)):\n",
    "    mes_yCol = mes_clas_yCols[i]\n",
    "\n",
    "    # 데이터별 컬럼명 단일화를 위한 dictionary 정의\n",
    "    mes_cmb_rename_dic = {'LOTNO': 'ID', f'{mes_yCol}': 'REAL_VAL', f'{mes_yCol}_TIME': 'INSP_TIME', f'{mes_yCol}_TEMP': 'INSP_TEMP', \n",
    "                            '1_JRCODE': 'JRCODE1', '2_JRCODE': 'JRCODE2', '3_JRCODE': 'JRCODE3', '4_JRCODE': 'JRCODE4', '5_JRCODE': 'JRCODE5', '6_JRCODE': 'JRCODE6', '7_JRCODE': 'JRCODE7', '8_JRCODE': 'JRCODE8', '9_JRCODE': 'JRCODE9', '10_JRCODE': 'JRCODE10', '11_JRCODE': 'JRCODE11', '12_JRCODE': 'JRCODE12', '13_JRCODE': 'JRCODE13', '14_JRCODE': 'JRCODE14', '15_JRCODE': 'JRCODE15', '16_JRCODE': 'JRCODE16', '17_JRCODE': 'JRCODE17', '18_JRCODE': 'JRCODE18', '19_JRCODE': 'JRCODE19', '20_JRCODE': 'JRCODE20', '21_JRCODE': 'JRCODE21',\n",
    "                            '1_PHR': 'PHR1', '2_PHR': 'PHR2', '3_PHR': 'PHR3', '4_PHR': 'PHR4', '5_PHR': 'PHR5', '6_PHR': 'PHR6', '7_PHR': 'PHR7', '8_PHR': 'PHR8', '9_PHR': 'PHR9', '10_PHR': 'PHR10', '11_PHR': 'PHR11', '12_PHR': 'PHR12', '13_PHR': 'PHR13', '14_PHR': 'PHR14', '15_PHR': 'PHR15', '16_PHR': 'PHR16', '17_PHR': 'PHR17', '18_PHR': 'PHR18', '19_PHR': 'PHR19', '20_PHR': 'PHR20', '21_PHR': 'PHR21',\n",
    "                            '1_PUTGB': 'PUTGB1', '2_PUTGB': 'PUTGB2', '3_PUTGB': 'PUTGB3', '4_PUTGB': 'PUTGB4', '5_PUTGB': 'PUTGB5', '6_PUTGB': 'PUTGB6', '7_PUTGB': 'PUTGB7', '8_PUTGB': 'PUTGB8', '9_PUTGB': 'PUTGB9', '10_PUTGB': 'PUTGB10', '11_PUTGB': 'PUTGB11', '12_PUTGB': 'PUTGB12', '13_PUTGB': 'PUTGB13', '14_PUTGB': 'PUTGB14', '15_PUTGB': 'PUTGB15', '16_PUTGB': 'PUTGB16', '17_PUTGB': 'PUTGB17', '18_PUTGB': 'PUTGB18', '19_PUTGB': 'PUTGB19', '20_PUTGB': 'PUTGB20', '21_PUTGB': 'PUTGB21'\n",
    "                            }\n",
    "    mes_fmb_rename_dic = {'LOTNO': 'ID', f'{mes_yCol}': 'REAL_VAL', f'{mes_yCol}_TEMP': 'INSP_TIME', f'{mes_yCol}_TEMP': 'INSP_TEMP',\n",
    "                            '1_JRCODE': 'JRCODE1', '2_JRCODE': 'JRCODE2', '3_JRCODE': 'JRCODE3', '4_JRCODE': 'JRCODE4', '5_JRCODE': 'JRCODE5', '6_JRCODE': 'JRCODE6', '7_JRCODE': 'JRCODE7', '8_JRCODE': 'JRCODE8', '9_JRCODE': 'JRCODE9', '10_JRCODE': 'JRCODE10', '11_JRCODE': 'JRCODE11', '12_JRCODE': 'JRCODE12', '13_JRCODE': 'JRCODE13', '14_JRCODE': 'JRCODE14', '15_JRCODE': 'JRCODE15', '16_JRCODE': 'JRCODE16', '17_JRCODE': 'JRCODE17', '18_JRCODE': 'JRCODE18', '19_JRCODE': 'JRCODE19', '20_JRCODE': 'JRCODE20', '21_JRCODE': 'JRCODE21', '22_JRCODE': 'JRCODE22', '23_JRCODE': 'JRCODE23', '24_JRCODE': 'JRCODE24', '25_JRCODE': 'JRCODE25',\n",
    "                            '1_PHR': 'PHR1', '2_PHR': 'PHR2', '3_PHR': 'PHR3', '4_PHR': 'PHR4', '5_PHR': 'PHR5', '6_PHR': 'PHR6', '7_PHR': 'PHR7', '8_PHR': 'PHR8', '9_PHR': 'PHR9', '10_PHR': 'PHR10', '11_PHR': 'PHR11', '12_PHR': 'PHR12', '13_PHR': 'PHR13', '14_PHR': 'PHR14', '15_PHR': 'PHR15', '16_PHR': 'PHR16', '17_PHR': 'PHR17', '18_PHR': 'PHR18', '19_PHR': 'PHR19', '20_PHR': 'PHR20', '21_PHR': 'PHR21', '22_PHR': 'PHR22', '23_PHR': 'PHR23', '24_PHR': 'PHR24', '25_PHR': 'PHR25',\n",
    "                            '1_PUTGB': 'PUTGB1', '2_PUTGB': 'PUTGB2', '3_PUTGB': 'PUTGB3', '4_PUTGB': 'PUTGB4', '5_PUTGB': 'PUTGB5', '6_PUTGB': 'PUTGB6', '7_PUTGB': 'PUTGB7', '8_PUTGB': 'PUTGB8', '9_PUTGB': 'PUTGB9', '10_PUTGB': 'PUTGB10', '11_PUTGB': 'PUTGB11', '12_PUTGB': 'PUTGB12', '13_PUTGB': 'PUTGB13', '14_PUTGB': 'PUTGB14', '15_PUTGB': 'PUTGB15', '16_PUTGB': 'PUTGB16', '17_PUTGB': 'PUTGB17', '18_PUTGB': 'PUTGB18', '19_PUTGB': 'PUTGB19', '20_PUTGB': 'PUTGB20', '21_PUTGB': 'PUTGB21', '22_PUTGB': 'PUTGB22', '23_PUTGB': 'PUTGB23', '24_PUTGB': 'PUTGB24', '25_PUTGB': 'PUTGB25',\n",
    "                            }\n",
    "\n",
    "    # 데이터별 파일 로드\n",
    "    mes_cmb_df = pd.read_csv(in_file_path+f'mes_clas_cmb_data_{mes_yCol}_fin.csv')\n",
    "    mes_fmb_df = pd.read_csv(in_file_path+f'mes_clas_fmb_data_{mes_yCol}_fin.csv')\n",
    "\n",
    "    # 데이터별 컬럼명 단일화\n",
    "    mes_cmb_df.rename(columns=mes_cmb_rename_dic,inplace=True)\n",
    "    mes_fmb_df.rename(columns=mes_fmb_rename_dic,inplace=True)\n",
    "\n",
    "    # 데이터 종류 변수 추가\n",
    "    mes_cmb_df['TYPE'] = 'mCMB'\n",
    "    mes_fmb_df['TYPE'] = 'mFMB'\n",
    "\n",
    "    # 데이터별 누락된 컬럼을 nan값을 채워서 추가\n",
    "    for fCol in fin_cols:\n",
    "        if fCol not in mes_cmb_df.columns:\n",
    "            mes_cmb_df[fCol] = np.nan\n",
    "        if fCol not in mes_fmb_df.columns:\n",
    "            mes_fmb_df[fCol] = np.nan\n",
    "\n",
    "    # 필요 없는 컬럼 제거\n",
    "    mes_fmb_df.drop(columns=['RUBBER'], inplace=True)\n",
    "\n",
    "    # 컬럼 순서 동일화\n",
    "    mes_cmb_df = mes_cmb_df[fin_cols]\n",
    "    mes_fmb_df = mes_fmb_df[fin_cols]\n",
    "\n",
    "    # 데이터 통합\n",
    "    combined_df = pd.concat([mes_cmb_df, mes_fmb_df])\n",
    "\n",
    "    # 결과 출력\n",
    "    display(f'CMB: {mes_cmb_df.shape}, FMB: {mes_fmb_df.shape}, TOTAL: {combined_df.shape}')\n",
    "\n",
    "    # 통합 데이터 저장\n",
    "    combined_df.to_csv(out_file_path+f'combined_data_{mes_yCol}_fin.csv', index=False)    \n",
    "    # 무한대 라벨 값 Nan으로 대체\n",
    "    combined_df['REAL_VAL'].replace([np.inf, -np.inf], np.nan, inplace=True)\n",
    "    # Nan 라벨 값 제거\n",
    "    combined_df.dropna(subset=['REAL_VAL'], how=\"all\", inplace=True)\n",
    "\n",
    "    # 통합 결과 저장\n",
    "    show_df.loc[len(show_df)] = [mes_yCol, len(mes_cmb_df), len(mes_fmb_df), len(combined_df)]\n",
    "\n",
    "show_df"
   ]
  },
  {
   "cell_type": "markdown",
   "id": "b8dc0d9a",
   "metadata": {},
   "source": [
    "## 3. 가류도/점성 데이터 통합"
   ]
  },
  {
   "cell_type": "code",
   "execution_count": 4,
   "id": "4c8f3087",
   "metadata": {
    "tags": []
   },
   "outputs": [],
   "source": [
    "in_file_path = './tmp_dataset/'\n",
    "out_file_path = './final_dataset/'\n",
    "\n",
    "lab_yCols = ['insp_mny_min_val', 'insp_rheo_min_val', 'insp_rheo_max_val']\n",
    "mes_regr_yCols = ['MNY', 'REHO_MIN', 'REHO_MAX', 'REHO_TS2', 'REHO_TC90', 'SCR']\n",
    "mes_clas_yCols = ['MNY_RESULT', 'REHO_RESULT', 'SCR_RESULT']"
   ]
  },
  {
   "cell_type": "markdown",
   "id": "9b03d338",
   "metadata": {},
   "source": [
    "### 1) 최종 데이터셋의 형태(변수명) 정의"
   ]
  },
  {
   "cell_type": "code",
   "execution_count": 5,
   "id": "7aefea30",
   "metadata": {
    "tags": []
   },
   "outputs": [],
   "source": [
    "fin_cols = ['ID', 'TYPE', 'INSP_TIME', 'INSP_TEMP', 'RPM1', 'RPM2', 'RPM3', 'RPM4', 'RPM5', 'RPM6', 'RPM7', 'RPM8', 'RPM9', 'RPM10', 'RPM11', 'RPM12', 'RPM13', 'RPM14', 'RPM15', 'RPM16', 'RPM17', 'RPM18', 'RPM19', 'RPM20', 'RPM21', 'RPM22', 'RPM23', 'TEMP1', 'TEMP2', 'TEMP3', 'TEMP4', 'TEMP5', 'TEMP6', 'TEMP7', 'TEMP8', 'TEMP9', 'TEMP10', 'TEMP11', 'TEMP12', 'TEMP13', 'TEMP14', 'TEMP15', 'TEMP16', 'TEMP17', 'TEMP18', 'TEMP19', 'TEMP20', 'TEMP21', 'TEMP22', 'TEMP23', 'TIME1', 'TIME2', 'TIME3', 'TIME4', 'TIME5', 'TIME6', 'TIME7', 'TIME8', 'TIME9', 'TIME10', 'TIME11', 'TIME12', 'TIME13', 'TIME14', 'TIME15', 'TIME16', 'TIME17', 'TIME18', 'TIME19', 'TIME20', 'TIME21', 'TIME22', 'TIME23', 'JUK1', 'JUK2', 'JUK3', 'JUK4', 'JUK5', 'JUK6', 'JUK7', 'JUK8', 'JUK9', 'JUK10', 'JUK11', 'JUK12', 'JUK13', 'JUK14', 'JUK15', 'JUK16', 'JUK17', 'JUK18', 'JUK19', 'JUK20', 'JUK21', 'JUK22', 'JUK23', 'JRCODE1', 'JRCODE2', 'JRCODE3', 'JRCODE4', 'JRCODE5', 'JRCODE6', 'JRCODE7', 'JRCODE8', 'JRCODE9', 'JRCODE10', 'JRCODE11', 'JRCODE12', 'JRCODE13', 'JRCODE14', 'JRCODE15', 'JRCODE16', 'JRCODE17', 'JRCODE18', 'JRCODE19', 'JRCODE20', 'JRCODE21', 'JRCODE22', 'JRCODE23', 'JRCODE24', 'JRCODE25', 'PHR1', 'PHR2', 'PHR3', 'PHR4', 'PHR5', 'PHR6', 'PHR7', 'PHR8', 'PHR9', 'PHR10', 'PHR11', 'PHR12', 'PHR13', 'PHR14', 'PHR15', 'PHR16', 'PHR17', 'PHR18', 'PHR19', 'PHR20', 'PHR21', 'PHR22', 'PHR23', 'PHR24', 'PHR25', 'PUTGB1', 'PUTGB2', 'PUTGB3', 'PUTGB4', 'PUTGB5', 'PUTGB6', 'PUTGB7', 'PUTGB8', 'PUTGB9', 'PUTGB10', 'PUTGB11', 'PUTGB12', 'PUTGB13', 'PUTGB14', 'PUTGB15', 'PUTGB16', 'PUTGB17', 'PUTGB18', 'PUTGB19', 'PUTGB20', 'PUTGB21', 'PUTGB22', 'PUTGB23', 'PUTGB24', 'PUTGB25', 'REAL_VAL']"
   ]
  },
  {
   "cell_type": "markdown",
   "id": "f1a36704",
   "metadata": {},
   "source": [
    "### 2) regression data set 재구축"
   ]
  },
  {
   "cell_type": "code",
   "execution_count": 6,
   "id": "7ed05112",
   "metadata": {
    "tags": []
   },
   "outputs": [
    {
     "data": {
      "text/plain": [
       "'MNY >> LAB: (787, 172), CMB: (58817, 172), FMB: (410, 172), TOTAL: (60014, 172)'"
      ]
     },
     "metadata": {},
     "output_type": "display_data"
    },
    {
     "data": {
      "text/plain": [
       "'REHO_MIN >> LAB: (7909, 172), CMB: (11236, 172), FMB: (183105, 172), TOTAL: (202250, 172)'"
      ]
     },
     "metadata": {},
     "output_type": "display_data"
    },
    {
     "data": {
      "text/plain": [
       "'REHO_MAX >> LAB: (7962, 172), CMB: (11251, 172), FMB: (183090, 172), TOTAL: (202303, 172)'"
      ]
     },
     "metadata": {},
     "output_type": "display_data"
    },
    {
     "data": {
      "text/plain": [
       "'REHO_TS2 >> LAB: No, CMB: (11225, 172), FMB: (183084, 172), TOTAL: (194309, 172)'"
      ]
     },
     "metadata": {},
     "output_type": "display_data"
    },
    {
     "data": {
      "text/plain": [
       "'REHO_TC90 >> LAB: No, CMB: (11228, 172), FMB: (183086, 172), TOTAL: (194314, 172)'"
      ]
     },
     "metadata": {},
     "output_type": "display_data"
    },
    {
     "data": {
      "text/plain": [
       "'SCR >> LAB: No, CMB: (10786, 172), FMB: (37288, 172), TOTAL: (48074, 172)'"
      ]
     },
     "metadata": {},
     "output_type": "display_data"
    },
    {
     "data": {
      "text/html": [
       "<div>\n",
       "<style scoped>\n",
       "    .dataframe tbody tr th:only-of-type {\n",
       "        vertical-align: middle;\n",
       "    }\n",
       "\n",
       "    .dataframe tbody tr th {\n",
       "        vertical-align: top;\n",
       "    }\n",
       "\n",
       "    .dataframe thead th {\n",
       "        text-align: right;\n",
       "    }\n",
       "</style>\n",
       "<table border=\"1\" class=\"dataframe\">\n",
       "  <thead>\n",
       "    <tr style=\"text-align: right;\">\n",
       "      <th></th>\n",
       "      <th>TARGET</th>\n",
       "      <th>LAB#</th>\n",
       "      <th>CMB#</th>\n",
       "      <th>FMB#</th>\n",
       "      <th>TOTAL#</th>\n",
       "    </tr>\n",
       "  </thead>\n",
       "  <tbody>\n",
       "    <tr>\n",
       "      <th>0</th>\n",
       "      <td>MNY</td>\n",
       "      <td>787</td>\n",
       "      <td>58817</td>\n",
       "      <td>410</td>\n",
       "      <td>60014</td>\n",
       "    </tr>\n",
       "    <tr>\n",
       "      <th>1</th>\n",
       "      <td>REHO_MIN</td>\n",
       "      <td>7909</td>\n",
       "      <td>11236</td>\n",
       "      <td>183105</td>\n",
       "      <td>202250</td>\n",
       "    </tr>\n",
       "    <tr>\n",
       "      <th>2</th>\n",
       "      <td>REHO_MAX</td>\n",
       "      <td>7962</td>\n",
       "      <td>11251</td>\n",
       "      <td>183090</td>\n",
       "      <td>202303</td>\n",
       "    </tr>\n",
       "    <tr>\n",
       "      <th>3</th>\n",
       "      <td>REHO_TS2</td>\n",
       "      <td>0</td>\n",
       "      <td>11225</td>\n",
       "      <td>183084</td>\n",
       "      <td>194309</td>\n",
       "    </tr>\n",
       "    <tr>\n",
       "      <th>4</th>\n",
       "      <td>REHO_TC90</td>\n",
       "      <td>0</td>\n",
       "      <td>11228</td>\n",
       "      <td>183086</td>\n",
       "      <td>194314</td>\n",
       "    </tr>\n",
       "    <tr>\n",
       "      <th>5</th>\n",
       "      <td>SCR</td>\n",
       "      <td>0</td>\n",
       "      <td>10786</td>\n",
       "      <td>37288</td>\n",
       "      <td>48074</td>\n",
       "    </tr>\n",
       "  </tbody>\n",
       "</table>\n",
       "</div>"
      ],
      "text/plain": [
       "      TARGET  LAB#   CMB#    FMB#  TOTAL#\n",
       "0        MNY   787  58817     410   60014\n",
       "1   REHO_MIN  7909  11236  183105  202250\n",
       "2   REHO_MAX  7962  11251  183090  202303\n",
       "3   REHO_TS2     0  11225  183084  194309\n",
       "4  REHO_TC90     0  11228  183086  194314\n",
       "5        SCR     0  10786   37288   48074"
      ]
     },
     "execution_count": 6,
     "metadata": {},
     "output_type": "execute_result"
    }
   ],
   "source": [
    "show_df = pd.DataFrame(columns=['TARGET','LAB#','CMB#','FMB#','TOTAL#'])\n",
    "\n",
    "for i in np.arange(0,len(mes_regr_yCols)):\n",
    "    # Lab 데이터 처리\n",
    "    try:\n",
    "        lab_yCol = lab_yCols[i]\n",
    "        # 데이터별 컬럼명 단일화를 위한 dictionary 정의\n",
    "        lab_rename_dic = {'lab_pk': 'ID', f'{lab_yCol}': 'REAL_VAL',\n",
    "                          '1_JRCODE': 'JRCODE1', '2_JRCODE': 'JRCODE2', '3_JRCODE': 'JRCODE3', '4_JRCODE': 'JRCODE4', '5_JRCODE': 'JRCODE5', '6_JRCODE': 'JRCODE6', '7_JRCODE': 'JRCODE7', '8_JRCODE': 'JRCODE8', '9_JRCODE': 'JRCODE9', '10_JRCODE': 'JRCODE10', '11_JRCODE': 'JRCODE11', '12_JRCODE': 'JRCODE12', '13_JRCODE': 'JRCODE13', '14_JRCODE': 'JRCODE14', '15_JRCODE': 'JRCODE15', '16_JRCODE': 'JRCODE16', '17_JRCODE': 'JRCODE17', '18_JRCODE': 'JRCODE18', '19_JRCODE': 'JRCODE19', '20_JRCODE': 'JRCODE20',\n",
    "                          '1_PHR': 'PHR1', '2_PHR': 'PHR2', '3_PHR': 'PHR3', '4_PHR': 'PHR4', '5_PHR': 'PHR5', '6_PHR': 'PHR6', '7_PHR': 'PHR7', '8_PHR': 'PHR8', '9_PHR': 'PHR9', '10_PHR': 'PHR10', '11_PHR': 'PHR11', '12_PHR': 'PHR12', '13_PHR': 'PHR13', '14_PHR': 'PHR14', '15_PHR': 'PHR15', '16_PHR': 'PHR16', '17_PHR': 'PHR17', '18_PHR': 'PHR18', '19_PHR': 'PHR19', '20_PHR': 'PHR20'\n",
    "                          }\n",
    "    except:\n",
    "        lab_yCol = 'NO'\n",
    "        lab_rename_dic = np.nan\n",
    "    \n",
    "    mes_yCol = mes_regr_yCols[i]\n",
    "    mes_cmb_rename_dic = {'LOTNO': 'ID', f'{mes_yCol}': 'REAL_VAL', f'{mes_yCol}_TIME': 'INSP_TIME', f'{mes_yCol}_TEMP': 'INSP_TEMP', \n",
    "                            '1_JRCODE': 'JRCODE1', '2_JRCODE': 'JRCODE2', '3_JRCODE': 'JRCODE3', '4_JRCODE': 'JRCODE4', '5_JRCODE': 'JRCODE5', '6_JRCODE': 'JRCODE6', '7_JRCODE': 'JRCODE7', '8_JRCODE': 'JRCODE8', '9_JRCODE': 'JRCODE9', '10_JRCODE': 'JRCODE10', '11_JRCODE': 'JRCODE11', '12_JRCODE': 'JRCODE12', '13_JRCODE': 'JRCODE13', '14_JRCODE': 'JRCODE14', '15_JRCODE': 'JRCODE15', '16_JRCODE': 'JRCODE16', '17_JRCODE': 'JRCODE17', '18_JRCODE': 'JRCODE18', '19_JRCODE': 'JRCODE19', '20_JRCODE': 'JRCODE20', '21_JRCODE': 'JRCODE21',\n",
    "                            '1_PHR': 'PHR1', '2_PHR': 'PHR2', '3_PHR': 'PHR3', '4_PHR': 'PHR4', '5_PHR': 'PHR5', '6_PHR': 'PHR6', '7_PHR': 'PHR7', '8_PHR': 'PHR8', '9_PHR': 'PHR9', '10_PHR': 'PHR10', '11_PHR': 'PHR11', '12_PHR': 'PHR12', '13_PHR': 'PHR13', '14_PHR': 'PHR14', '15_PHR': 'PHR15', '16_PHR': 'PHR16', '17_PHR': 'PHR17', '18_PHR': 'PHR18', '19_PHR': 'PHR19', '20_PHR': 'PHR20', '21_PHR': 'PHR21',\n",
    "                            '1_PUTGB': 'PUTGB1', '2_PUTGB': 'PUTGB2', '3_PUTGB': 'PUTGB3', '4_PUTGB': 'PUTGB4', '5_PUTGB': 'PUTGB5', '6_PUTGB': 'PUTGB6', '7_PUTGB': 'PUTGB7', '8_PUTGB': 'PUTGB8', '9_PUTGB': 'PUTGB9', '10_PUTGB': 'PUTGB10', '11_PUTGB': 'PUTGB11', '12_PUTGB': 'PUTGB12', '13_PUTGB': 'PUTGB13', '14_PUTGB': 'PUTGB14', '15_PUTGB': 'PUTGB15', '16_PUTGB': 'PUTGB16', '17_PUTGB': 'PUTGB17', '18_PUTGB': 'PUTGB18', '19_PUTGB': 'PUTGB19', '20_PUTGB': 'PUTGB20', '21_PUTGB': 'PUTGB21'\n",
    "                            }\n",
    "    mes_fmb_rename_dic = {'LOTNO': 'ID', f'{mes_yCol}': 'REAL_VAL', f'{mes_yCol}_TEMP': 'INSP_TIME', f'{mes_yCol}_TEMP': 'INSP_TEMP',\n",
    "                            '1_JRCODE': 'JRCODE1', '2_JRCODE': 'JRCODE2', '3_JRCODE': 'JRCODE3', '4_JRCODE': 'JRCODE4', '5_JRCODE': 'JRCODE5', '6_JRCODE': 'JRCODE6', '7_JRCODE': 'JRCODE7', '8_JRCODE': 'JRCODE8', '9_JRCODE': 'JRCODE9', '10_JRCODE': 'JRCODE10', '11_JRCODE': 'JRCODE11', '12_JRCODE': 'JRCODE12', '13_JRCODE': 'JRCODE13', '14_JRCODE': 'JRCODE14', '15_JRCODE': 'JRCODE15', '16_JRCODE': 'JRCODE16', '17_JRCODE': 'JRCODE17', '18_JRCODE': 'JRCODE18', '19_JRCODE': 'JRCODE19', '20_JRCODE': 'JRCODE20', '21_JRCODE': 'JRCODE21', '22_JRCODE': 'JRCODE22', '23_JRCODE': 'JRCODE23', '24_JRCODE': 'JRCODE24', '25_JRCODE': 'JRCODE25',\n",
    "                            '1_PHR': 'PHR1', '2_PHR': 'PHR2', '3_PHR': 'PHR3', '4_PHR': 'PHR4', '5_PHR': 'PHR5', '6_PHR': 'PHR6', '7_PHR': 'PHR7', '8_PHR': 'PHR8', '9_PHR': 'PHR9', '10_PHR': 'PHR10', '11_PHR': 'PHR11', '12_PHR': 'PHR12', '13_PHR': 'PHR13', '14_PHR': 'PHR14', '15_PHR': 'PHR15', '16_PHR': 'PHR16', '17_PHR': 'PHR17', '18_PHR': 'PHR18', '19_PHR': 'PHR19', '20_PHR': 'PHR20', '21_PHR': 'PHR21', '22_PHR': 'PHR22', '23_PHR': 'PHR23', '24_PHR': 'PHR24', '25_PHR': 'PHR25',\n",
    "                            '1_PUTGB': 'PUTGB1', '2_PUTGB': 'PUTGB2', '3_PUTGB': 'PUTGB3', '4_PUTGB': 'PUTGB4', '5_PUTGB': 'PUTGB5', '6_PUTGB': 'PUTGB6', '7_PUTGB': 'PUTGB7', '8_PUTGB': 'PUTGB8', '9_PUTGB': 'PUTGB9', '10_PUTGB': 'PUTGB10', '11_PUTGB': 'PUTGB11', '12_PUTGB': 'PUTGB12', '13_PUTGB': 'PUTGB13', '14_PUTGB': 'PUTGB14', '15_PUTGB': 'PUTGB15', '16_PUTGB': 'PUTGB16', '17_PUTGB': 'PUTGB17', '18_PUTGB': 'PUTGB18', '19_PUTGB': 'PUTGB19', '20_PUTGB': 'PUTGB20', '21_PUTGB': 'PUTGB21', '22_PUTGB': 'PUTGB22', '23_PUTGB': 'PUTGB23', '24_PUTGB': 'PUTGB24', '25_PUTGB': 'PUTGB25',\n",
    "                            }\n",
    "\n",
    "    # 데이터별 파일 로드    \n",
    "    if lab_yCol != 'NO': lab_regr_df = pd.read_csv(in_file_path+f'lab_regr_data_{lab_yCol}_fin_noZero.csv')\n",
    "    mes_cmb_df = pd.read_csv(in_file_path+f'mes_regr_cmb_data_{mes_yCol}_fin_noZero.csv')\n",
    "    mes_fmb_df = pd.read_csv(in_file_path+f'mes_regr_fmb_data_{mes_yCol}_fin_noZero.csv')\n",
    "\n",
    "    # 데이터별 컬럼명 단일화\n",
    "    if lab_yCol != 'NO': lab_regr_df.rename(columns=lab_rename_dic,inplace=True)\n",
    "    mes_cmb_df.rename(columns=mes_cmb_rename_dic,inplace=True)\n",
    "    mes_fmb_df.rename(columns=mes_fmb_rename_dic,inplace=True)\n",
    "\n",
    "    # 데이터 종류 변수 추가\n",
    "    if lab_yCol != 'NO': lab_regr_df['TYPE'] = 'LAB'\n",
    "    mes_cmb_df['TYPE'] = 'mCMB'\n",
    "    mes_fmb_df['TYPE'] = 'mFMB'\n",
    "\n",
    "    # 데이터별 누락된 컬럼을 nan값을 채워서 추가\n",
    "    for fCol in fin_cols:\n",
    "        if (fCol not in lab_regr_df.columns) and (lab_yCol != 'NO'):\n",
    "            lab_regr_df[fCol] = np.nan\n",
    "        if fCol not in mes_cmb_df.columns:\n",
    "            mes_cmb_df[fCol] = np.nan\n",
    "        if fCol not in mes_fmb_df.columns:\n",
    "            mes_fmb_df[fCol] = np.nan\n",
    "\n",
    "    # 필요 없는 컬럼 제거\n",
    "    mes_fmb_df.drop(columns=['RUBBER'], inplace=True)\n",
    "\n",
    "    # 컬럼 순서 동일화\n",
    "    if lab_yCol != 'NO': lab_regr_df = lab_regr_df[fin_cols]\n",
    "    mes_cmb_df = mes_cmb_df[fin_cols]\n",
    "    mes_fmb_df = mes_fmb_df[fin_cols]\n",
    "\n",
    "    # 데이터 통합 및 결과 출력\n",
    "    if lab_yCol != 'NO':\n",
    "        combined_df = pd.concat([lab_regr_df, mes_cmb_df, mes_fmb_df])\n",
    "        display(f'{mes_yCol} >> LAB: {lab_regr_df.shape}, CMB: {mes_cmb_df.shape}, FMB: {mes_fmb_df.shape}, TOTAL: {combined_df.shape}')\n",
    "    else:\n",
    "        combined_df = pd.concat([mes_cmb_df, mes_fmb_df])\n",
    "        display(f'{mes_yCol} >> LAB: No, CMB: {mes_cmb_df.shape}, FMB: {mes_fmb_df.shape}, TOTAL: {combined_df.shape}')\n",
    "\n",
    "    # 통합 데이터 저장\n",
    "    combined_df.to_csv(out_file_path+f'combined_data_{mes_yCol}_fin.csv', index=False)\n",
    "    # 무한대 라벨 값 Nan으로 대체\n",
    "    combined_df['REAL_VAL'].replace([np.inf, -np.inf], np.nan, inplace=True)\n",
    "    # Nan 라벨 값 제거\n",
    "    combined_df.dropna(subset=['REAL_VAL'], how=\"all\", inplace=True)\n",
    "\n",
    "    # 통합 결과 저장\n",
    "    if lab_yCol != 'NO':\n",
    "        show_df.loc[len(show_df)] = [mes_yCol, len(lab_regr_df), len(mes_cmb_df), len(mes_fmb_df), len(combined_df)]\n",
    "    else:\n",
    "        show_df.loc[len(show_df)] = [mes_yCol, 0, len(mes_cmb_df), len(mes_fmb_df), len(combined_df)]        \n",
    "    \n",
    "show_df"
   ]
  },
  {
   "cell_type": "markdown",
   "id": "67280806",
   "metadata": {},
   "source": [
    "### 3) classification data set 재구축"
   ]
  },
  {
   "cell_type": "code",
   "execution_count": 7,
   "id": "29c7a2b4",
   "metadata": {
    "tags": []
   },
   "outputs": [
    {
     "data": {
      "text/plain": [
       "'CMB: (59851, 172), FMB: (418, 172), TOTAL: (60269, 172)'"
      ]
     },
     "metadata": {},
     "output_type": "display_data"
    },
    {
     "data": {
      "text/plain": [
       "'CMB: (11493, 172), FMB: (183993, 172), TOTAL: (195486, 172)'"
      ]
     },
     "metadata": {},
     "output_type": "display_data"
    },
    {
     "data": {
      "text/plain": [
       "'CMB: (11067, 172), FMB: (42102, 172), TOTAL: (53169, 172)'"
      ]
     },
     "metadata": {},
     "output_type": "display_data"
    },
    {
     "data": {
      "text/html": [
       "<div>\n",
       "<style scoped>\n",
       "    .dataframe tbody tr th:only-of-type {\n",
       "        vertical-align: middle;\n",
       "    }\n",
       "\n",
       "    .dataframe tbody tr th {\n",
       "        vertical-align: top;\n",
       "    }\n",
       "\n",
       "    .dataframe thead th {\n",
       "        text-align: right;\n",
       "    }\n",
       "</style>\n",
       "<table border=\"1\" class=\"dataframe\">\n",
       "  <thead>\n",
       "    <tr style=\"text-align: right;\">\n",
       "      <th></th>\n",
       "      <th>TARGET</th>\n",
       "      <th>CMB#</th>\n",
       "      <th>FMB#</th>\n",
       "      <th>TOTAL#</th>\n",
       "    </tr>\n",
       "  </thead>\n",
       "  <tbody>\n",
       "    <tr>\n",
       "      <th>0</th>\n",
       "      <td>MNY_RESULT</td>\n",
       "      <td>59851</td>\n",
       "      <td>418</td>\n",
       "      <td>60269</td>\n",
       "    </tr>\n",
       "    <tr>\n",
       "      <th>1</th>\n",
       "      <td>REHO_RESULT</td>\n",
       "      <td>11493</td>\n",
       "      <td>183993</td>\n",
       "      <td>195486</td>\n",
       "    </tr>\n",
       "    <tr>\n",
       "      <th>2</th>\n",
       "      <td>SCR_RESULT</td>\n",
       "      <td>11067</td>\n",
       "      <td>42102</td>\n",
       "      <td>53169</td>\n",
       "    </tr>\n",
       "  </tbody>\n",
       "</table>\n",
       "</div>"
      ],
      "text/plain": [
       "        TARGET   CMB#    FMB#  TOTAL#\n",
       "0   MNY_RESULT  59851     418   60269\n",
       "1  REHO_RESULT  11493  183993  195486\n",
       "2   SCR_RESULT  11067   42102   53169"
      ]
     },
     "execution_count": 7,
     "metadata": {},
     "output_type": "execute_result"
    }
   ],
   "source": [
    "show_df = pd.DataFrame(columns=['TARGET','CMB#','FMB#','TOTAL#'])\n",
    "\n",
    "for i in np.arange(0,len(mes_clas_yCols)):\n",
    "    mes_yCol = mes_clas_yCols[i]\n",
    "\n",
    "    # 데이터별 컬럼명 단일화를 위한 dictionary 정의\n",
    "    mes_cmb_rename_dic = {'LOTNO': 'ID', f'{mes_yCol}': 'REAL_VAL', f'{mes_yCol}_TIME': 'INSP_TIME', f'{mes_yCol}_TEMP': 'INSP_TEMP', \n",
    "                            '1_JRCODE': 'JRCODE1', '2_JRCODE': 'JRCODE2', '3_JRCODE': 'JRCODE3', '4_JRCODE': 'JRCODE4', '5_JRCODE': 'JRCODE5', '6_JRCODE': 'JRCODE6', '7_JRCODE': 'JRCODE7', '8_JRCODE': 'JRCODE8', '9_JRCODE': 'JRCODE9', '10_JRCODE': 'JRCODE10', '11_JRCODE': 'JRCODE11', '12_JRCODE': 'JRCODE12', '13_JRCODE': 'JRCODE13', '14_JRCODE': 'JRCODE14', '15_JRCODE': 'JRCODE15', '16_JRCODE': 'JRCODE16', '17_JRCODE': 'JRCODE17', '18_JRCODE': 'JRCODE18', '19_JRCODE': 'JRCODE19', '20_JRCODE': 'JRCODE20', '21_JRCODE': 'JRCODE21',\n",
    "                            '1_PHR': 'PHR1', '2_PHR': 'PHR2', '3_PHR': 'PHR3', '4_PHR': 'PHR4', '5_PHR': 'PHR5', '6_PHR': 'PHR6', '7_PHR': 'PHR7', '8_PHR': 'PHR8', '9_PHR': 'PHR9', '10_PHR': 'PHR10', '11_PHR': 'PHR11', '12_PHR': 'PHR12', '13_PHR': 'PHR13', '14_PHR': 'PHR14', '15_PHR': 'PHR15', '16_PHR': 'PHR16', '17_PHR': 'PHR17', '18_PHR': 'PHR18', '19_PHR': 'PHR19', '20_PHR': 'PHR20', '21_PHR': 'PHR21',\n",
    "                            '1_PUTGB': 'PUTGB1', '2_PUTGB': 'PUTGB2', '3_PUTGB': 'PUTGB3', '4_PUTGB': 'PUTGB4', '5_PUTGB': 'PUTGB5', '6_PUTGB': 'PUTGB6', '7_PUTGB': 'PUTGB7', '8_PUTGB': 'PUTGB8', '9_PUTGB': 'PUTGB9', '10_PUTGB': 'PUTGB10', '11_PUTGB': 'PUTGB11', '12_PUTGB': 'PUTGB12', '13_PUTGB': 'PUTGB13', '14_PUTGB': 'PUTGB14', '15_PUTGB': 'PUTGB15', '16_PUTGB': 'PUTGB16', '17_PUTGB': 'PUTGB17', '18_PUTGB': 'PUTGB18', '19_PUTGB': 'PUTGB19', '20_PUTGB': 'PUTGB20', '21_PUTGB': 'PUTGB21'\n",
    "                            }\n",
    "    mes_fmb_rename_dic = {'LOTNO': 'ID', f'{mes_yCol}': 'REAL_VAL', f'{mes_yCol}_TEMP': 'INSP_TIME', f'{mes_yCol}_TEMP': 'INSP_TEMP',\n",
    "                            '1_JRCODE': 'JRCODE1', '2_JRCODE': 'JRCODE2', '3_JRCODE': 'JRCODE3', '4_JRCODE': 'JRCODE4', '5_JRCODE': 'JRCODE5', '6_JRCODE': 'JRCODE6', '7_JRCODE': 'JRCODE7', '8_JRCODE': 'JRCODE8', '9_JRCODE': 'JRCODE9', '10_JRCODE': 'JRCODE10', '11_JRCODE': 'JRCODE11', '12_JRCODE': 'JRCODE12', '13_JRCODE': 'JRCODE13', '14_JRCODE': 'JRCODE14', '15_JRCODE': 'JRCODE15', '16_JRCODE': 'JRCODE16', '17_JRCODE': 'JRCODE17', '18_JRCODE': 'JRCODE18', '19_JRCODE': 'JRCODE19', '20_JRCODE': 'JRCODE20', '21_JRCODE': 'JRCODE21', '22_JRCODE': 'JRCODE22', '23_JRCODE': 'JRCODE23', '24_JRCODE': 'JRCODE24', '25_JRCODE': 'JRCODE25',\n",
    "                            '1_PHR': 'PHR1', '2_PHR': 'PHR2', '3_PHR': 'PHR3', '4_PHR': 'PHR4', '5_PHR': 'PHR5', '6_PHR': 'PHR6', '7_PHR': 'PHR7', '8_PHR': 'PHR8', '9_PHR': 'PHR9', '10_PHR': 'PHR10', '11_PHR': 'PHR11', '12_PHR': 'PHR12', '13_PHR': 'PHR13', '14_PHR': 'PHR14', '15_PHR': 'PHR15', '16_PHR': 'PHR16', '17_PHR': 'PHR17', '18_PHR': 'PHR18', '19_PHR': 'PHR19', '20_PHR': 'PHR20', '21_PHR': 'PHR21', '22_PHR': 'PHR22', '23_PHR': 'PHR23', '24_PHR': 'PHR24', '25_PHR': 'PHR25',\n",
    "                            '1_PUTGB': 'PUTGB1', '2_PUTGB': 'PUTGB2', '3_PUTGB': 'PUTGB3', '4_PUTGB': 'PUTGB4', '5_PUTGB': 'PUTGB5', '6_PUTGB': 'PUTGB6', '7_PUTGB': 'PUTGB7', '8_PUTGB': 'PUTGB8', '9_PUTGB': 'PUTGB9', '10_PUTGB': 'PUTGB10', '11_PUTGB': 'PUTGB11', '12_PUTGB': 'PUTGB12', '13_PUTGB': 'PUTGB13', '14_PUTGB': 'PUTGB14', '15_PUTGB': 'PUTGB15', '16_PUTGB': 'PUTGB16', '17_PUTGB': 'PUTGB17', '18_PUTGB': 'PUTGB18', '19_PUTGB': 'PUTGB19', '20_PUTGB': 'PUTGB20', '21_PUTGB': 'PUTGB21', '22_PUTGB': 'PUTGB22', '23_PUTGB': 'PUTGB23', '24_PUTGB': 'PUTGB24', '25_PUTGB': 'PUTGB25',\n",
    "                            }\n",
    "\n",
    "    # 데이터별 파일 로드\n",
    "    mes_cmb_df = pd.read_csv(in_file_path+f'mes_clas_cmb_data_{mes_yCol}_fin.csv')\n",
    "    mes_fmb_df = pd.read_csv(in_file_path+f'mes_clas_fmb_data_{mes_yCol}_fin.csv')\n",
    "\n",
    "    # 데이터별 컬럼명 단일화\n",
    "    mes_cmb_df.rename(columns=mes_cmb_rename_dic,inplace=True)\n",
    "    mes_fmb_df.rename(columns=mes_fmb_rename_dic,inplace=True)\n",
    "\n",
    "    # 데이터 종류 변수 추가\n",
    "    mes_cmb_df['TYPE'] = 'mCMB'\n",
    "    mes_fmb_df['TYPE'] = 'mFMB'\n",
    "\n",
    "    # 데이터별 누락된 컬럼을 nan값을 채워서 추가\n",
    "    for fCol in fin_cols:\n",
    "        if fCol not in mes_cmb_df.columns:\n",
    "            mes_cmb_df[fCol] = np.nan\n",
    "        if fCol not in mes_fmb_df.columns:\n",
    "            mes_fmb_df[fCol] = np.nan\n",
    "\n",
    "    # 필요 없는 컬럼 제거\n",
    "    mes_fmb_df.drop(columns=['RUBBER'], inplace=True)\n",
    "\n",
    "    # 컬럼 순서 동일화\n",
    "    mes_cmb_df = mes_cmb_df[fin_cols]\n",
    "    mes_fmb_df = mes_fmb_df[fin_cols]\n",
    "\n",
    "    # 데이터 통합\n",
    "    combined_df = pd.concat([mes_cmb_df, mes_fmb_df])\n",
    "\n",
    "    # 결과 출력\n",
    "    display(f'CMB: {mes_cmb_df.shape}, FMB: {mes_fmb_df.shape}, TOTAL: {combined_df.shape}')\n",
    "\n",
    "    # 통합 데이터 저장\n",
    "    combined_df.to_csv(out_file_path+f'combined_data_{mes_yCol}_fin.csv', index=False)\n",
    "    # 무한대 라벨 값 Nan으로 대체\n",
    "    combined_df['REAL_VAL'].replace([np.inf, -np.inf], np.nan, inplace=True)\n",
    "    # Nan 라벨 값 제거\n",
    "    combined_df.dropna(subset=['REAL_VAL'], how=\"all\", inplace=True)\n",
    "\n",
    "    # 통합 결과 저장\n",
    "    show_df.loc[len(show_df)] = [mes_yCol, len(mes_cmb_df), len(mes_fmb_df), len(combined_df)]\n",
    "\n",
    "show_df"
   ]
  }
 ],
 "metadata": {
  "kernelspec": {
   "display_name": "python3.11",
   "language": "python",
   "name": "python3"
  },
  "language_info": {
   "codemirror_mode": {
    "name": "ipython",
    "version": 3
   },
   "file_extension": ".py",
   "mimetype": "text/x-python",
   "name": "python",
   "nbconvert_exporter": "python",
   "pygments_lexer": "ipython3",
   "version": "3.11.5"
  }
 },
 "nbformat": 4,
 "nbformat_minor": 5
}
